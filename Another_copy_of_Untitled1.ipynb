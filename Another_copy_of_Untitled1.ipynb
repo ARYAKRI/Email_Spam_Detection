{
  "nbformat": 4,
  "nbformat_minor": 0,
  "metadata": {
    "colab": {
      "provenance": []
    },
    "kernelspec": {
      "name": "python3",
      "display_name": "Python 3"
    },
    "language_info": {
      "name": "python"
    }
  },
  "cells": [
    {
      "cell_type": "code",
      "execution_count": null,
      "metadata": {
        "colab": {
          "base_uri": "https://localhost:8080/"
        },
        "id": "Dj4fmD5UXo6h",
        "outputId": "fc7a574e-576d-4112-b5f8-65284233e6c7"
      },
      "outputs": [
        {
          "output_type": "stream",
          "name": "stdout",
          "text": [
            "Requirement already satisfied: nltk in /usr/local/lib/python3.11/dist-packages (3.9.1)\n",
            "Requirement already satisfied: pandas in /usr/local/lib/python3.11/dist-packages (2.2.2)\n",
            "Requirement already satisfied: numpy in /usr/local/lib/python3.11/dist-packages (2.0.2)\n",
            "Requirement already satisfied: scikit-learn in /usr/local/lib/python3.11/dist-packages (1.6.1)\n",
            "Requirement already satisfied: matplotlib in /usr/local/lib/python3.11/dist-packages (3.10.0)\n",
            "Requirement already satisfied: seaborn in /usr/local/lib/python3.11/dist-packages (0.13.2)\n",
            "Requirement already satisfied: wordcloud in /usr/local/lib/python3.11/dist-packages (1.9.4)\n",
            "Requirement already satisfied: click in /usr/local/lib/python3.11/dist-packages (from nltk) (8.1.8)\n",
            "Requirement already satisfied: joblib in /usr/local/lib/python3.11/dist-packages (from nltk) (1.4.2)\n",
            "Requirement already satisfied: regex>=2021.8.3 in /usr/local/lib/python3.11/dist-packages (from nltk) (2024.11.6)\n",
            "Requirement already satisfied: tqdm in /usr/local/lib/python3.11/dist-packages (from nltk) (4.67.1)\n",
            "Requirement already satisfied: python-dateutil>=2.8.2 in /usr/local/lib/python3.11/dist-packages (from pandas) (2.8.2)\n",
            "Requirement already satisfied: pytz>=2020.1 in /usr/local/lib/python3.11/dist-packages (from pandas) (2025.2)\n",
            "Requirement already satisfied: tzdata>=2022.7 in /usr/local/lib/python3.11/dist-packages (from pandas) (2025.2)\n",
            "Requirement already satisfied: scipy>=1.6.0 in /usr/local/lib/python3.11/dist-packages (from scikit-learn) (1.14.1)\n",
            "Requirement already satisfied: threadpoolctl>=3.1.0 in /usr/local/lib/python3.11/dist-packages (from scikit-learn) (3.6.0)\n",
            "Requirement already satisfied: contourpy>=1.0.1 in /usr/local/lib/python3.11/dist-packages (from matplotlib) (1.3.1)\n",
            "Requirement already satisfied: cycler>=0.10 in /usr/local/lib/python3.11/dist-packages (from matplotlib) (0.12.1)\n",
            "Requirement already satisfied: fonttools>=4.22.0 in /usr/local/lib/python3.11/dist-packages (from matplotlib) (4.56.0)\n",
            "Requirement already satisfied: kiwisolver>=1.3.1 in /usr/local/lib/python3.11/dist-packages (from matplotlib) (1.4.8)\n",
            "Requirement already satisfied: packaging>=20.0 in /usr/local/lib/python3.11/dist-packages (from matplotlib) (24.2)\n",
            "Requirement already satisfied: pillow>=8 in /usr/local/lib/python3.11/dist-packages (from matplotlib) (11.1.0)\n",
            "Requirement already satisfied: pyparsing>=2.3.1 in /usr/local/lib/python3.11/dist-packages (from matplotlib) (3.2.3)\n",
            "Requirement already satisfied: six>=1.5 in /usr/local/lib/python3.11/dist-packages (from python-dateutil>=2.8.2->pandas) (1.17.0)\n"
          ]
        }
      ],
      "source": [
        "!pip install nltk pandas numpy scikit-learn matplotlib seaborn wordcloud\n"
      ]
    },
    {
      "cell_type": "code",
      "source": [
        "import pandas as pd\n",
        "import numpy as np\n",
        "import re\n",
        "import nltk\n",
        "import string\n",
        "import matplotlib.pyplot as plt\n",
        "import seaborn as sns\n",
        "from wordcloud import WordCloud\n",
        "from sklearn.model_selection import train_test_split\n",
        "from sklearn.feature_extraction.text import TfidfVectorizer\n",
        "from sklearn.naive_bayes import MultinomialNB\n",
        "from sklearn.metrics import accuracy_score, confusion_matrix, classification_report\n",
        "import pickle\n"
      ],
      "metadata": {
        "id": "BJBFEsZBXuVQ"
      },
      "execution_count": null,
      "outputs": []
    },
    {
      "cell_type": "code",
      "source": [
        "nltk.download('stopwords')\n",
        "from nltk.corpus import stopwords\n"
      ],
      "metadata": {
        "colab": {
          "base_uri": "https://localhost:8080/"
        },
        "id": "tBu3xIxbX0mX",
        "outputId": "3fdfde37-bc7a-49f6-f37e-f259c40b1a0d"
      },
      "execution_count": null,
      "outputs": [
        {
          "output_type": "stream",
          "name": "stderr",
          "text": [
            "[nltk_data] Downloading package stopwords to /root/nltk_data...\n",
            "[nltk_data]   Unzipping corpora/stopwords.zip.\n"
          ]
        }
      ]
    },
    {
      "cell_type": "code",
      "source": [
        "url = \"https://raw.githubusercontent.com/dD2405/Twitter_Sentiment_Analysis/master/train.csv\"\n",
        "data = pd.read_csv(url, encoding=\"latin-1\")\n",
        "\n",
        "# Rename columns\n",
        "data = data[['label', 'tweet']]\n",
        "data.columns = ['label', 'message']\n",
        "\n",
        "data['label'] = data['label'].map({'ham': 0, 'spam': 1})  # Convert labels to binary\n"
      ],
      "metadata": {
        "id": "Be-SJII3X6hL"
      },
      "execution_count": null,
      "outputs": []
    },
    {
      "cell_type": "code",
      "source": [
        "def clean_text(text):\n",
        "    text = text.lower()\n",
        "    text = re.sub(r'\\d+', '', text)  # Remove numbers\n",
        "    text = text.translate(str.maketrans('', '', string.punctuation))  # Remove punctuation\n",
        "    words = text.split()\n",
        "    words = [word for word in words if word not in stopwords.words('english')]\n",
        "    return ' '.join(words)\n",
        "\n",
        "data['cleaned_message'] = data['message'].apply(clean_text)\n"
      ],
      "metadata": {
        "id": "pk8MuoGrX_jC"
      },
      "execution_count": null,
      "outputs": []
    },
    {
      "cell_type": "code",
      "source": [
        "X_train, X_test, y_train, y_test = train_test_split(\n",
        "    data['cleaned_message'], data['label'], test_size=0.2, random_state=42)\n"
      ],
      "metadata": {
        "id": "7uZoQE2UYHrb"
      },
      "execution_count": null,
      "outputs": []
    },
    {
      "cell_type": "code",
      "source": [
        "vectorizer = TfidfVectorizer()\n",
        "X_train_vec = vectorizer.fit_transform(X_train)\n",
        "X_test_vec = vectorizer.transform(X_test)\n"
      ],
      "metadata": {
        "id": "wcUgHMO3YVEG"
      },
      "execution_count": null,
      "outputs": []
    },
    {
      "cell_type": "code",
      "source": [
        "model = MultinomialNB()\n",
        "model.fit(X_train_vec, y_train)\n",
        "\n"
      ],
      "metadata": {
        "colab": {
          "base_uri": "https://localhost:8080/",
          "height": 339
        },
        "id": "AagIIb6pYXV-",
        "outputId": "edf591fa-78d0-4983-dc49-853e09011ba2"
      },
      "execution_count": null,
      "outputs": [
        {
          "output_type": "error",
          "ename": "ValueError",
          "evalue": "Input y contains NaN.",
          "traceback": [
            "\u001b[0;31m---------------------------------------------------------------------------\u001b[0m",
            "\u001b[0;31mValueError\u001b[0m                                Traceback (most recent call last)",
            "\u001b[0;32m<ipython-input-8-9f94ca21ee6a>\u001b[0m in \u001b[0;36m<cell line: 0>\u001b[0;34m()\u001b[0m\n\u001b[1;32m      1\u001b[0m \u001b[0mmodel\u001b[0m \u001b[0;34m=\u001b[0m \u001b[0mMultinomialNB\u001b[0m\u001b[0;34m(\u001b[0m\u001b[0;34m)\u001b[0m\u001b[0;34m\u001b[0m\u001b[0;34m\u001b[0m\u001b[0m\n\u001b[0;32m----> 2\u001b[0;31m \u001b[0mmodel\u001b[0m\u001b[0;34m.\u001b[0m\u001b[0mfit\u001b[0m\u001b[0;34m(\u001b[0m\u001b[0mX_train_vec\u001b[0m\u001b[0;34m,\u001b[0m \u001b[0my_train\u001b[0m\u001b[0;34m)\u001b[0m\u001b[0;34m\u001b[0m\u001b[0;34m\u001b[0m\u001b[0m\n\u001b[0m\u001b[1;32m      3\u001b[0m \u001b[0;34m\u001b[0m\u001b[0m\n",
            "\u001b[0;32m/usr/local/lib/python3.11/dist-packages/sklearn/base.py\u001b[0m in \u001b[0;36mwrapper\u001b[0;34m(estimator, *args, **kwargs)\u001b[0m\n\u001b[1;32m   1387\u001b[0m                 )\n\u001b[1;32m   1388\u001b[0m             ):\n\u001b[0;32m-> 1389\u001b[0;31m                 \u001b[0;32mreturn\u001b[0m \u001b[0mfit_method\u001b[0m\u001b[0;34m(\u001b[0m\u001b[0mestimator\u001b[0m\u001b[0;34m,\u001b[0m \u001b[0;34m*\u001b[0m\u001b[0margs\u001b[0m\u001b[0;34m,\u001b[0m \u001b[0;34m**\u001b[0m\u001b[0mkwargs\u001b[0m\u001b[0;34m)\u001b[0m\u001b[0;34m\u001b[0m\u001b[0;34m\u001b[0m\u001b[0m\n\u001b[0m\u001b[1;32m   1390\u001b[0m \u001b[0;34m\u001b[0m\u001b[0m\n\u001b[1;32m   1391\u001b[0m         \u001b[0;32mreturn\u001b[0m \u001b[0mwrapper\u001b[0m\u001b[0;34m\u001b[0m\u001b[0;34m\u001b[0m\u001b[0m\n",
            "\u001b[0;32m/usr/local/lib/python3.11/dist-packages/sklearn/naive_bayes.py\u001b[0m in \u001b[0;36mfit\u001b[0;34m(self, X, y, sample_weight)\u001b[0m\n\u001b[1;32m    733\u001b[0m             \u001b[0mReturns\u001b[0m \u001b[0mthe\u001b[0m \u001b[0minstance\u001b[0m \u001b[0mitself\u001b[0m\u001b[0;34m.\u001b[0m\u001b[0;34m\u001b[0m\u001b[0;34m\u001b[0m\u001b[0m\n\u001b[1;32m    734\u001b[0m         \"\"\"\n\u001b[0;32m--> 735\u001b[0;31m         \u001b[0mX\u001b[0m\u001b[0;34m,\u001b[0m \u001b[0my\u001b[0m \u001b[0;34m=\u001b[0m \u001b[0mself\u001b[0m\u001b[0;34m.\u001b[0m\u001b[0m_check_X_y\u001b[0m\u001b[0;34m(\u001b[0m\u001b[0mX\u001b[0m\u001b[0;34m,\u001b[0m \u001b[0my\u001b[0m\u001b[0;34m)\u001b[0m\u001b[0;34m\u001b[0m\u001b[0;34m\u001b[0m\u001b[0m\n\u001b[0m\u001b[1;32m    736\u001b[0m         \u001b[0m_\u001b[0m\u001b[0;34m,\u001b[0m \u001b[0mn_features\u001b[0m \u001b[0;34m=\u001b[0m \u001b[0mX\u001b[0m\u001b[0;34m.\u001b[0m\u001b[0mshape\u001b[0m\u001b[0;34m\u001b[0m\u001b[0;34m\u001b[0m\u001b[0m\n\u001b[1;32m    737\u001b[0m \u001b[0;34m\u001b[0m\u001b[0m\n",
            "\u001b[0;32m/usr/local/lib/python3.11/dist-packages/sklearn/naive_bayes.py\u001b[0m in \u001b[0;36m_check_X_y\u001b[0;34m(self, X, y, reset)\u001b[0m\n\u001b[1;32m    579\u001b[0m     \u001b[0;32mdef\u001b[0m \u001b[0m_check_X_y\u001b[0m\u001b[0;34m(\u001b[0m\u001b[0mself\u001b[0m\u001b[0;34m,\u001b[0m \u001b[0mX\u001b[0m\u001b[0;34m,\u001b[0m \u001b[0my\u001b[0m\u001b[0;34m,\u001b[0m \u001b[0mreset\u001b[0m\u001b[0;34m=\u001b[0m\u001b[0;32mTrue\u001b[0m\u001b[0;34m)\u001b[0m\u001b[0;34m:\u001b[0m\u001b[0;34m\u001b[0m\u001b[0;34m\u001b[0m\u001b[0m\n\u001b[1;32m    580\u001b[0m         \u001b[0;34m\"\"\"Validate X and y in fit methods.\"\"\"\u001b[0m\u001b[0;34m\u001b[0m\u001b[0;34m\u001b[0m\u001b[0m\n\u001b[0;32m--> 581\u001b[0;31m         \u001b[0;32mreturn\u001b[0m \u001b[0mvalidate_data\u001b[0m\u001b[0;34m(\u001b[0m\u001b[0mself\u001b[0m\u001b[0;34m,\u001b[0m \u001b[0mX\u001b[0m\u001b[0;34m,\u001b[0m \u001b[0my\u001b[0m\u001b[0;34m,\u001b[0m \u001b[0maccept_sparse\u001b[0m\u001b[0;34m=\u001b[0m\u001b[0;34m\"csr\"\u001b[0m\u001b[0;34m,\u001b[0m \u001b[0mreset\u001b[0m\u001b[0;34m=\u001b[0m\u001b[0mreset\u001b[0m\u001b[0;34m)\u001b[0m\u001b[0;34m\u001b[0m\u001b[0;34m\u001b[0m\u001b[0m\n\u001b[0m\u001b[1;32m    582\u001b[0m \u001b[0;34m\u001b[0m\u001b[0m\n\u001b[1;32m    583\u001b[0m     \u001b[0;32mdef\u001b[0m \u001b[0m_update_class_log_prior\u001b[0m\u001b[0;34m(\u001b[0m\u001b[0mself\u001b[0m\u001b[0;34m,\u001b[0m \u001b[0mclass_prior\u001b[0m\u001b[0;34m=\u001b[0m\u001b[0;32mNone\u001b[0m\u001b[0;34m)\u001b[0m\u001b[0;34m:\u001b[0m\u001b[0;34m\u001b[0m\u001b[0;34m\u001b[0m\u001b[0m\n",
            "\u001b[0;32m/usr/local/lib/python3.11/dist-packages/sklearn/utils/validation.py\u001b[0m in \u001b[0;36mvalidate_data\u001b[0;34m(_estimator, X, y, reset, validate_separately, skip_check_array, **check_params)\u001b[0m\n\u001b[1;32m   2959\u001b[0m             \u001b[0my\u001b[0m \u001b[0;34m=\u001b[0m \u001b[0mcheck_array\u001b[0m\u001b[0;34m(\u001b[0m\u001b[0my\u001b[0m\u001b[0;34m,\u001b[0m \u001b[0minput_name\u001b[0m\u001b[0;34m=\u001b[0m\u001b[0;34m\"y\"\u001b[0m\u001b[0;34m,\u001b[0m \u001b[0;34m**\u001b[0m\u001b[0mcheck_y_params\u001b[0m\u001b[0;34m)\u001b[0m\u001b[0;34m\u001b[0m\u001b[0;34m\u001b[0m\u001b[0m\n\u001b[1;32m   2960\u001b[0m         \u001b[0;32melse\u001b[0m\u001b[0;34m:\u001b[0m\u001b[0;34m\u001b[0m\u001b[0;34m\u001b[0m\u001b[0m\n\u001b[0;32m-> 2961\u001b[0;31m             \u001b[0mX\u001b[0m\u001b[0;34m,\u001b[0m \u001b[0my\u001b[0m \u001b[0;34m=\u001b[0m \u001b[0mcheck_X_y\u001b[0m\u001b[0;34m(\u001b[0m\u001b[0mX\u001b[0m\u001b[0;34m,\u001b[0m \u001b[0my\u001b[0m\u001b[0;34m,\u001b[0m \u001b[0;34m**\u001b[0m\u001b[0mcheck_params\u001b[0m\u001b[0;34m)\u001b[0m\u001b[0;34m\u001b[0m\u001b[0;34m\u001b[0m\u001b[0m\n\u001b[0m\u001b[1;32m   2962\u001b[0m         \u001b[0mout\u001b[0m \u001b[0;34m=\u001b[0m \u001b[0mX\u001b[0m\u001b[0;34m,\u001b[0m \u001b[0my\u001b[0m\u001b[0;34m\u001b[0m\u001b[0;34m\u001b[0m\u001b[0m\n\u001b[1;32m   2963\u001b[0m \u001b[0;34m\u001b[0m\u001b[0m\n",
            "\u001b[0;32m/usr/local/lib/python3.11/dist-packages/sklearn/utils/validation.py\u001b[0m in \u001b[0;36mcheck_X_y\u001b[0;34m(X, y, accept_sparse, accept_large_sparse, dtype, order, copy, force_writeable, force_all_finite, ensure_all_finite, ensure_2d, allow_nd, multi_output, ensure_min_samples, ensure_min_features, y_numeric, estimator)\u001b[0m\n\u001b[1;32m   1385\u001b[0m     )\n\u001b[1;32m   1386\u001b[0m \u001b[0;34m\u001b[0m\u001b[0m\n\u001b[0;32m-> 1387\u001b[0;31m     \u001b[0my\u001b[0m \u001b[0;34m=\u001b[0m \u001b[0m_check_y\u001b[0m\u001b[0;34m(\u001b[0m\u001b[0my\u001b[0m\u001b[0;34m,\u001b[0m \u001b[0mmulti_output\u001b[0m\u001b[0;34m=\u001b[0m\u001b[0mmulti_output\u001b[0m\u001b[0;34m,\u001b[0m \u001b[0my_numeric\u001b[0m\u001b[0;34m=\u001b[0m\u001b[0my_numeric\u001b[0m\u001b[0;34m,\u001b[0m \u001b[0mestimator\u001b[0m\u001b[0;34m=\u001b[0m\u001b[0mestimator\u001b[0m\u001b[0;34m)\u001b[0m\u001b[0;34m\u001b[0m\u001b[0;34m\u001b[0m\u001b[0m\n\u001b[0m\u001b[1;32m   1388\u001b[0m \u001b[0;34m\u001b[0m\u001b[0m\n\u001b[1;32m   1389\u001b[0m     \u001b[0mcheck_consistent_length\u001b[0m\u001b[0;34m(\u001b[0m\u001b[0mX\u001b[0m\u001b[0;34m,\u001b[0m \u001b[0my\u001b[0m\u001b[0;34m)\u001b[0m\u001b[0;34m\u001b[0m\u001b[0;34m\u001b[0m\u001b[0m\n",
            "\u001b[0;32m/usr/local/lib/python3.11/dist-packages/sklearn/utils/validation.py\u001b[0m in \u001b[0;36m_check_y\u001b[0;34m(y, multi_output, y_numeric, estimator)\u001b[0m\n\u001b[1;32m   1407\u001b[0m         \u001b[0mestimator_name\u001b[0m \u001b[0;34m=\u001b[0m \u001b[0m_check_estimator_name\u001b[0m\u001b[0;34m(\u001b[0m\u001b[0mestimator\u001b[0m\u001b[0;34m)\u001b[0m\u001b[0;34m\u001b[0m\u001b[0;34m\u001b[0m\u001b[0m\n\u001b[1;32m   1408\u001b[0m         \u001b[0my\u001b[0m \u001b[0;34m=\u001b[0m \u001b[0mcolumn_or_1d\u001b[0m\u001b[0;34m(\u001b[0m\u001b[0my\u001b[0m\u001b[0;34m,\u001b[0m \u001b[0mwarn\u001b[0m\u001b[0;34m=\u001b[0m\u001b[0;32mTrue\u001b[0m\u001b[0;34m)\u001b[0m\u001b[0;34m\u001b[0m\u001b[0;34m\u001b[0m\u001b[0m\n\u001b[0;32m-> 1409\u001b[0;31m         \u001b[0m_assert_all_finite\u001b[0m\u001b[0;34m(\u001b[0m\u001b[0my\u001b[0m\u001b[0;34m,\u001b[0m \u001b[0minput_name\u001b[0m\u001b[0;34m=\u001b[0m\u001b[0;34m\"y\"\u001b[0m\u001b[0;34m,\u001b[0m \u001b[0mestimator_name\u001b[0m\u001b[0;34m=\u001b[0m\u001b[0mestimator_name\u001b[0m\u001b[0;34m)\u001b[0m\u001b[0;34m\u001b[0m\u001b[0;34m\u001b[0m\u001b[0m\n\u001b[0m\u001b[1;32m   1410\u001b[0m         \u001b[0m_ensure_no_complex_data\u001b[0m\u001b[0;34m(\u001b[0m\u001b[0my\u001b[0m\u001b[0;34m)\u001b[0m\u001b[0;34m\u001b[0m\u001b[0;34m\u001b[0m\u001b[0m\n\u001b[1;32m   1411\u001b[0m     \u001b[0;32mif\u001b[0m \u001b[0my_numeric\u001b[0m \u001b[0;32mand\u001b[0m \u001b[0mhasattr\u001b[0m\u001b[0;34m(\u001b[0m\u001b[0my\u001b[0m\u001b[0;34m.\u001b[0m\u001b[0mdtype\u001b[0m\u001b[0;34m,\u001b[0m \u001b[0;34m\"kind\"\u001b[0m\u001b[0;34m)\u001b[0m \u001b[0;32mand\u001b[0m \u001b[0my\u001b[0m\u001b[0;34m.\u001b[0m\u001b[0mdtype\u001b[0m\u001b[0;34m.\u001b[0m\u001b[0mkind\u001b[0m \u001b[0;34m==\u001b[0m \u001b[0;34m\"O\"\u001b[0m\u001b[0;34m:\u001b[0m\u001b[0;34m\u001b[0m\u001b[0;34m\u001b[0m\u001b[0m\n",
            "\u001b[0;32m/usr/local/lib/python3.11/dist-packages/sklearn/utils/validation.py\u001b[0m in \u001b[0;36m_assert_all_finite\u001b[0;34m(X, allow_nan, msg_dtype, estimator_name, input_name)\u001b[0m\n\u001b[1;32m    118\u001b[0m         \u001b[0;32mreturn\u001b[0m\u001b[0;34m\u001b[0m\u001b[0;34m\u001b[0m\u001b[0m\n\u001b[1;32m    119\u001b[0m \u001b[0;34m\u001b[0m\u001b[0m\n\u001b[0;32m--> 120\u001b[0;31m     _assert_all_finite_element_wise(\n\u001b[0m\u001b[1;32m    121\u001b[0m         \u001b[0mX\u001b[0m\u001b[0;34m,\u001b[0m\u001b[0;34m\u001b[0m\u001b[0;34m\u001b[0m\u001b[0m\n\u001b[1;32m    122\u001b[0m         \u001b[0mxp\u001b[0m\u001b[0;34m=\u001b[0m\u001b[0mxp\u001b[0m\u001b[0;34m,\u001b[0m\u001b[0;34m\u001b[0m\u001b[0;34m\u001b[0m\u001b[0m\n",
            "\u001b[0;32m/usr/local/lib/python3.11/dist-packages/sklearn/utils/validation.py\u001b[0m in \u001b[0;36m_assert_all_finite_element_wise\u001b[0;34m(X, xp, allow_nan, msg_dtype, estimator_name, input_name)\u001b[0m\n\u001b[1;32m    167\u001b[0m                 \u001b[0;34m\"#estimators-that-handle-nan-values\"\u001b[0m\u001b[0;34m\u001b[0m\u001b[0;34m\u001b[0m\u001b[0m\n\u001b[1;32m    168\u001b[0m             )\n\u001b[0;32m--> 169\u001b[0;31m         \u001b[0;32mraise\u001b[0m \u001b[0mValueError\u001b[0m\u001b[0;34m(\u001b[0m\u001b[0mmsg_err\u001b[0m\u001b[0;34m)\u001b[0m\u001b[0;34m\u001b[0m\u001b[0;34m\u001b[0m\u001b[0m\n\u001b[0m\u001b[1;32m    170\u001b[0m \u001b[0;34m\u001b[0m\u001b[0m\n\u001b[1;32m    171\u001b[0m \u001b[0;34m\u001b[0m\u001b[0m\n",
            "\u001b[0;31mValueError\u001b[0m: Input y contains NaN."
          ]
        }
      ]
    },
    {
      "cell_type": "code",
      "source": [
        "model = MultinomialNB()\n",
        "model.fit(X_train_vec, y_train)\n"
      ],
      "metadata": {
        "colab": {
          "base_uri": "https://localhost:8080/",
          "height": 321
        },
        "id": "IF2LdlsDYaeR",
        "outputId": "eae890aa-d789-4aee-a6fc-11ee040ae1a1"
      },
      "execution_count": null,
      "outputs": [
        {
          "output_type": "error",
          "ename": "ValueError",
          "evalue": "Input y contains NaN.",
          "traceback": [
            "\u001b[0;31m---------------------------------------------------------------------------\u001b[0m",
            "\u001b[0;31mValueError\u001b[0m                                Traceback (most recent call last)",
            "\u001b[0;32m<ipython-input-9-bd1955fc5bcb>\u001b[0m in \u001b[0;36m<cell line: 0>\u001b[0;34m()\u001b[0m\n\u001b[1;32m      1\u001b[0m \u001b[0mmodel\u001b[0m \u001b[0;34m=\u001b[0m \u001b[0mMultinomialNB\u001b[0m\u001b[0;34m(\u001b[0m\u001b[0;34m)\u001b[0m\u001b[0;34m\u001b[0m\u001b[0;34m\u001b[0m\u001b[0m\n\u001b[0;32m----> 2\u001b[0;31m \u001b[0mmodel\u001b[0m\u001b[0;34m.\u001b[0m\u001b[0mfit\u001b[0m\u001b[0;34m(\u001b[0m\u001b[0mX_train_vec\u001b[0m\u001b[0;34m,\u001b[0m \u001b[0my_train\u001b[0m\u001b[0;34m)\u001b[0m\u001b[0;34m\u001b[0m\u001b[0;34m\u001b[0m\u001b[0m\n\u001b[0m",
            "\u001b[0;32m/usr/local/lib/python3.11/dist-packages/sklearn/base.py\u001b[0m in \u001b[0;36mwrapper\u001b[0;34m(estimator, *args, **kwargs)\u001b[0m\n\u001b[1;32m   1387\u001b[0m                 )\n\u001b[1;32m   1388\u001b[0m             ):\n\u001b[0;32m-> 1389\u001b[0;31m                 \u001b[0;32mreturn\u001b[0m \u001b[0mfit_method\u001b[0m\u001b[0;34m(\u001b[0m\u001b[0mestimator\u001b[0m\u001b[0;34m,\u001b[0m \u001b[0;34m*\u001b[0m\u001b[0margs\u001b[0m\u001b[0;34m,\u001b[0m \u001b[0;34m**\u001b[0m\u001b[0mkwargs\u001b[0m\u001b[0;34m)\u001b[0m\u001b[0;34m\u001b[0m\u001b[0;34m\u001b[0m\u001b[0m\n\u001b[0m\u001b[1;32m   1390\u001b[0m \u001b[0;34m\u001b[0m\u001b[0m\n\u001b[1;32m   1391\u001b[0m         \u001b[0;32mreturn\u001b[0m \u001b[0mwrapper\u001b[0m\u001b[0;34m\u001b[0m\u001b[0;34m\u001b[0m\u001b[0m\n",
            "\u001b[0;32m/usr/local/lib/python3.11/dist-packages/sklearn/naive_bayes.py\u001b[0m in \u001b[0;36mfit\u001b[0;34m(self, X, y, sample_weight)\u001b[0m\n\u001b[1;32m    733\u001b[0m             \u001b[0mReturns\u001b[0m \u001b[0mthe\u001b[0m \u001b[0minstance\u001b[0m \u001b[0mitself\u001b[0m\u001b[0;34m.\u001b[0m\u001b[0;34m\u001b[0m\u001b[0;34m\u001b[0m\u001b[0m\n\u001b[1;32m    734\u001b[0m         \"\"\"\n\u001b[0;32m--> 735\u001b[0;31m         \u001b[0mX\u001b[0m\u001b[0;34m,\u001b[0m \u001b[0my\u001b[0m \u001b[0;34m=\u001b[0m \u001b[0mself\u001b[0m\u001b[0;34m.\u001b[0m\u001b[0m_check_X_y\u001b[0m\u001b[0;34m(\u001b[0m\u001b[0mX\u001b[0m\u001b[0;34m,\u001b[0m \u001b[0my\u001b[0m\u001b[0;34m)\u001b[0m\u001b[0;34m\u001b[0m\u001b[0;34m\u001b[0m\u001b[0m\n\u001b[0m\u001b[1;32m    736\u001b[0m         \u001b[0m_\u001b[0m\u001b[0;34m,\u001b[0m \u001b[0mn_features\u001b[0m \u001b[0;34m=\u001b[0m \u001b[0mX\u001b[0m\u001b[0;34m.\u001b[0m\u001b[0mshape\u001b[0m\u001b[0;34m\u001b[0m\u001b[0;34m\u001b[0m\u001b[0m\n\u001b[1;32m    737\u001b[0m \u001b[0;34m\u001b[0m\u001b[0m\n",
            "\u001b[0;32m/usr/local/lib/python3.11/dist-packages/sklearn/naive_bayes.py\u001b[0m in \u001b[0;36m_check_X_y\u001b[0;34m(self, X, y, reset)\u001b[0m\n\u001b[1;32m    579\u001b[0m     \u001b[0;32mdef\u001b[0m \u001b[0m_check_X_y\u001b[0m\u001b[0;34m(\u001b[0m\u001b[0mself\u001b[0m\u001b[0;34m,\u001b[0m \u001b[0mX\u001b[0m\u001b[0;34m,\u001b[0m \u001b[0my\u001b[0m\u001b[0;34m,\u001b[0m \u001b[0mreset\u001b[0m\u001b[0;34m=\u001b[0m\u001b[0;32mTrue\u001b[0m\u001b[0;34m)\u001b[0m\u001b[0;34m:\u001b[0m\u001b[0;34m\u001b[0m\u001b[0;34m\u001b[0m\u001b[0m\n\u001b[1;32m    580\u001b[0m         \u001b[0;34m\"\"\"Validate X and y in fit methods.\"\"\"\u001b[0m\u001b[0;34m\u001b[0m\u001b[0;34m\u001b[0m\u001b[0m\n\u001b[0;32m--> 581\u001b[0;31m         \u001b[0;32mreturn\u001b[0m \u001b[0mvalidate_data\u001b[0m\u001b[0;34m(\u001b[0m\u001b[0mself\u001b[0m\u001b[0;34m,\u001b[0m \u001b[0mX\u001b[0m\u001b[0;34m,\u001b[0m \u001b[0my\u001b[0m\u001b[0;34m,\u001b[0m \u001b[0maccept_sparse\u001b[0m\u001b[0;34m=\u001b[0m\u001b[0;34m\"csr\"\u001b[0m\u001b[0;34m,\u001b[0m \u001b[0mreset\u001b[0m\u001b[0;34m=\u001b[0m\u001b[0mreset\u001b[0m\u001b[0;34m)\u001b[0m\u001b[0;34m\u001b[0m\u001b[0;34m\u001b[0m\u001b[0m\n\u001b[0m\u001b[1;32m    582\u001b[0m \u001b[0;34m\u001b[0m\u001b[0m\n\u001b[1;32m    583\u001b[0m     \u001b[0;32mdef\u001b[0m \u001b[0m_update_class_log_prior\u001b[0m\u001b[0;34m(\u001b[0m\u001b[0mself\u001b[0m\u001b[0;34m,\u001b[0m \u001b[0mclass_prior\u001b[0m\u001b[0;34m=\u001b[0m\u001b[0;32mNone\u001b[0m\u001b[0;34m)\u001b[0m\u001b[0;34m:\u001b[0m\u001b[0;34m\u001b[0m\u001b[0;34m\u001b[0m\u001b[0m\n",
            "\u001b[0;32m/usr/local/lib/python3.11/dist-packages/sklearn/utils/validation.py\u001b[0m in \u001b[0;36mvalidate_data\u001b[0;34m(_estimator, X, y, reset, validate_separately, skip_check_array, **check_params)\u001b[0m\n\u001b[1;32m   2959\u001b[0m             \u001b[0my\u001b[0m \u001b[0;34m=\u001b[0m \u001b[0mcheck_array\u001b[0m\u001b[0;34m(\u001b[0m\u001b[0my\u001b[0m\u001b[0;34m,\u001b[0m \u001b[0minput_name\u001b[0m\u001b[0;34m=\u001b[0m\u001b[0;34m\"y\"\u001b[0m\u001b[0;34m,\u001b[0m \u001b[0;34m**\u001b[0m\u001b[0mcheck_y_params\u001b[0m\u001b[0;34m)\u001b[0m\u001b[0;34m\u001b[0m\u001b[0;34m\u001b[0m\u001b[0m\n\u001b[1;32m   2960\u001b[0m         \u001b[0;32melse\u001b[0m\u001b[0;34m:\u001b[0m\u001b[0;34m\u001b[0m\u001b[0;34m\u001b[0m\u001b[0m\n\u001b[0;32m-> 2961\u001b[0;31m             \u001b[0mX\u001b[0m\u001b[0;34m,\u001b[0m \u001b[0my\u001b[0m \u001b[0;34m=\u001b[0m \u001b[0mcheck_X_y\u001b[0m\u001b[0;34m(\u001b[0m\u001b[0mX\u001b[0m\u001b[0;34m,\u001b[0m \u001b[0my\u001b[0m\u001b[0;34m,\u001b[0m \u001b[0;34m**\u001b[0m\u001b[0mcheck_params\u001b[0m\u001b[0;34m)\u001b[0m\u001b[0;34m\u001b[0m\u001b[0;34m\u001b[0m\u001b[0m\n\u001b[0m\u001b[1;32m   2962\u001b[0m         \u001b[0mout\u001b[0m \u001b[0;34m=\u001b[0m \u001b[0mX\u001b[0m\u001b[0;34m,\u001b[0m \u001b[0my\u001b[0m\u001b[0;34m\u001b[0m\u001b[0;34m\u001b[0m\u001b[0m\n\u001b[1;32m   2963\u001b[0m \u001b[0;34m\u001b[0m\u001b[0m\n",
            "\u001b[0;32m/usr/local/lib/python3.11/dist-packages/sklearn/utils/validation.py\u001b[0m in \u001b[0;36mcheck_X_y\u001b[0;34m(X, y, accept_sparse, accept_large_sparse, dtype, order, copy, force_writeable, force_all_finite, ensure_all_finite, ensure_2d, allow_nd, multi_output, ensure_min_samples, ensure_min_features, y_numeric, estimator)\u001b[0m\n\u001b[1;32m   1385\u001b[0m     )\n\u001b[1;32m   1386\u001b[0m \u001b[0;34m\u001b[0m\u001b[0m\n\u001b[0;32m-> 1387\u001b[0;31m     \u001b[0my\u001b[0m \u001b[0;34m=\u001b[0m \u001b[0m_check_y\u001b[0m\u001b[0;34m(\u001b[0m\u001b[0my\u001b[0m\u001b[0;34m,\u001b[0m \u001b[0mmulti_output\u001b[0m\u001b[0;34m=\u001b[0m\u001b[0mmulti_output\u001b[0m\u001b[0;34m,\u001b[0m \u001b[0my_numeric\u001b[0m\u001b[0;34m=\u001b[0m\u001b[0my_numeric\u001b[0m\u001b[0;34m,\u001b[0m \u001b[0mestimator\u001b[0m\u001b[0;34m=\u001b[0m\u001b[0mestimator\u001b[0m\u001b[0;34m)\u001b[0m\u001b[0;34m\u001b[0m\u001b[0;34m\u001b[0m\u001b[0m\n\u001b[0m\u001b[1;32m   1388\u001b[0m \u001b[0;34m\u001b[0m\u001b[0m\n\u001b[1;32m   1389\u001b[0m     \u001b[0mcheck_consistent_length\u001b[0m\u001b[0;34m(\u001b[0m\u001b[0mX\u001b[0m\u001b[0;34m,\u001b[0m \u001b[0my\u001b[0m\u001b[0;34m)\u001b[0m\u001b[0;34m\u001b[0m\u001b[0;34m\u001b[0m\u001b[0m\n",
            "\u001b[0;32m/usr/local/lib/python3.11/dist-packages/sklearn/utils/validation.py\u001b[0m in \u001b[0;36m_check_y\u001b[0;34m(y, multi_output, y_numeric, estimator)\u001b[0m\n\u001b[1;32m   1407\u001b[0m         \u001b[0mestimator_name\u001b[0m \u001b[0;34m=\u001b[0m \u001b[0m_check_estimator_name\u001b[0m\u001b[0;34m(\u001b[0m\u001b[0mestimator\u001b[0m\u001b[0;34m)\u001b[0m\u001b[0;34m\u001b[0m\u001b[0;34m\u001b[0m\u001b[0m\n\u001b[1;32m   1408\u001b[0m         \u001b[0my\u001b[0m \u001b[0;34m=\u001b[0m \u001b[0mcolumn_or_1d\u001b[0m\u001b[0;34m(\u001b[0m\u001b[0my\u001b[0m\u001b[0;34m,\u001b[0m \u001b[0mwarn\u001b[0m\u001b[0;34m=\u001b[0m\u001b[0;32mTrue\u001b[0m\u001b[0;34m)\u001b[0m\u001b[0;34m\u001b[0m\u001b[0;34m\u001b[0m\u001b[0m\n\u001b[0;32m-> 1409\u001b[0;31m         \u001b[0m_assert_all_finite\u001b[0m\u001b[0;34m(\u001b[0m\u001b[0my\u001b[0m\u001b[0;34m,\u001b[0m \u001b[0minput_name\u001b[0m\u001b[0;34m=\u001b[0m\u001b[0;34m\"y\"\u001b[0m\u001b[0;34m,\u001b[0m \u001b[0mestimator_name\u001b[0m\u001b[0;34m=\u001b[0m\u001b[0mestimator_name\u001b[0m\u001b[0;34m)\u001b[0m\u001b[0;34m\u001b[0m\u001b[0;34m\u001b[0m\u001b[0m\n\u001b[0m\u001b[1;32m   1410\u001b[0m         \u001b[0m_ensure_no_complex_data\u001b[0m\u001b[0;34m(\u001b[0m\u001b[0my\u001b[0m\u001b[0;34m)\u001b[0m\u001b[0;34m\u001b[0m\u001b[0;34m\u001b[0m\u001b[0m\n\u001b[1;32m   1411\u001b[0m     \u001b[0;32mif\u001b[0m \u001b[0my_numeric\u001b[0m \u001b[0;32mand\u001b[0m \u001b[0mhasattr\u001b[0m\u001b[0;34m(\u001b[0m\u001b[0my\u001b[0m\u001b[0;34m.\u001b[0m\u001b[0mdtype\u001b[0m\u001b[0;34m,\u001b[0m \u001b[0;34m\"kind\"\u001b[0m\u001b[0;34m)\u001b[0m \u001b[0;32mand\u001b[0m \u001b[0my\u001b[0m\u001b[0;34m.\u001b[0m\u001b[0mdtype\u001b[0m\u001b[0;34m.\u001b[0m\u001b[0mkind\u001b[0m \u001b[0;34m==\u001b[0m \u001b[0;34m\"O\"\u001b[0m\u001b[0;34m:\u001b[0m\u001b[0;34m\u001b[0m\u001b[0;34m\u001b[0m\u001b[0m\n",
            "\u001b[0;32m/usr/local/lib/python3.11/dist-packages/sklearn/utils/validation.py\u001b[0m in \u001b[0;36m_assert_all_finite\u001b[0;34m(X, allow_nan, msg_dtype, estimator_name, input_name)\u001b[0m\n\u001b[1;32m    118\u001b[0m         \u001b[0;32mreturn\u001b[0m\u001b[0;34m\u001b[0m\u001b[0;34m\u001b[0m\u001b[0m\n\u001b[1;32m    119\u001b[0m \u001b[0;34m\u001b[0m\u001b[0m\n\u001b[0;32m--> 120\u001b[0;31m     _assert_all_finite_element_wise(\n\u001b[0m\u001b[1;32m    121\u001b[0m         \u001b[0mX\u001b[0m\u001b[0;34m,\u001b[0m\u001b[0;34m\u001b[0m\u001b[0;34m\u001b[0m\u001b[0m\n\u001b[1;32m    122\u001b[0m         \u001b[0mxp\u001b[0m\u001b[0;34m=\u001b[0m\u001b[0mxp\u001b[0m\u001b[0;34m,\u001b[0m\u001b[0;34m\u001b[0m\u001b[0;34m\u001b[0m\u001b[0m\n",
            "\u001b[0;32m/usr/local/lib/python3.11/dist-packages/sklearn/utils/validation.py\u001b[0m in \u001b[0;36m_assert_all_finite_element_wise\u001b[0;34m(X, xp, allow_nan, msg_dtype, estimator_name, input_name)\u001b[0m\n\u001b[1;32m    167\u001b[0m                 \u001b[0;34m\"#estimators-that-handle-nan-values\"\u001b[0m\u001b[0;34m\u001b[0m\u001b[0;34m\u001b[0m\u001b[0m\n\u001b[1;32m    168\u001b[0m             )\n\u001b[0;32m--> 169\u001b[0;31m         \u001b[0;32mraise\u001b[0m \u001b[0mValueError\u001b[0m\u001b[0;34m(\u001b[0m\u001b[0mmsg_err\u001b[0m\u001b[0;34m)\u001b[0m\u001b[0;34m\u001b[0m\u001b[0;34m\u001b[0m\u001b[0m\n\u001b[0m\u001b[1;32m    170\u001b[0m \u001b[0;34m\u001b[0m\u001b[0m\n\u001b[1;32m    171\u001b[0m \u001b[0;34m\u001b[0m\u001b[0m\n",
            "\u001b[0;31mValueError\u001b[0m: Input y contains NaN."
          ]
        }
      ]
    },
    {
      "cell_type": "code",
      "source": [
        "print(y_train.isnull().sum())  # This should print 0 if there are no NaN values\n"
      ],
      "metadata": {
        "colab": {
          "base_uri": "https://localhost:8080/"
        },
        "id": "7eF9j8d6YfWr",
        "outputId": "ba93978c-bdde-4bfd-e374-d1907f76a700"
      },
      "execution_count": null,
      "outputs": [
        {
          "output_type": "stream",
          "name": "stdout",
          "text": [
            "25569\n"
          ]
        }
      ]
    },
    {
      "cell_type": "code",
      "source": [
        "y_train = y_train.dropna()\n",
        "X_train = X_train.loc[y_train.index]  # Ensure X_train and y_train match in length\n",
        "\n"
      ],
      "metadata": {
        "id": "a5fRoeS_YyRs"
      },
      "execution_count": null,
      "outputs": []
    },
    {
      "cell_type": "code",
      "source": [
        "model = MultinomialNB()\n",
        "model.fit(X_train_vec, y_train)\n",
        "\n"
      ],
      "metadata": {
        "colab": {
          "base_uri": "https://localhost:8080/",
          "height": 321
        },
        "id": "4TSgqff5Y2a7",
        "outputId": "48f12a49-19af-4f09-cb6a-d58604d35c61"
      },
      "execution_count": null,
      "outputs": [
        {
          "output_type": "error",
          "ename": "ValueError",
          "evalue": "Found input variables with inconsistent numbers of samples: [25569, 0]",
          "traceback": [
            "\u001b[0;31m---------------------------------------------------------------------------\u001b[0m",
            "\u001b[0;31mValueError\u001b[0m                                Traceback (most recent call last)",
            "\u001b[0;32m<ipython-input-12-9f94ca21ee6a>\u001b[0m in \u001b[0;36m<cell line: 0>\u001b[0;34m()\u001b[0m\n\u001b[1;32m      1\u001b[0m \u001b[0mmodel\u001b[0m \u001b[0;34m=\u001b[0m \u001b[0mMultinomialNB\u001b[0m\u001b[0;34m(\u001b[0m\u001b[0;34m)\u001b[0m\u001b[0;34m\u001b[0m\u001b[0;34m\u001b[0m\u001b[0m\n\u001b[0;32m----> 2\u001b[0;31m \u001b[0mmodel\u001b[0m\u001b[0;34m.\u001b[0m\u001b[0mfit\u001b[0m\u001b[0;34m(\u001b[0m\u001b[0mX_train_vec\u001b[0m\u001b[0;34m,\u001b[0m \u001b[0my_train\u001b[0m\u001b[0;34m)\u001b[0m\u001b[0;34m\u001b[0m\u001b[0;34m\u001b[0m\u001b[0m\n\u001b[0m\u001b[1;32m      3\u001b[0m \u001b[0;34m\u001b[0m\u001b[0m\n",
            "\u001b[0;32m/usr/local/lib/python3.11/dist-packages/sklearn/base.py\u001b[0m in \u001b[0;36mwrapper\u001b[0;34m(estimator, *args, **kwargs)\u001b[0m\n\u001b[1;32m   1387\u001b[0m                 )\n\u001b[1;32m   1388\u001b[0m             ):\n\u001b[0;32m-> 1389\u001b[0;31m                 \u001b[0;32mreturn\u001b[0m \u001b[0mfit_method\u001b[0m\u001b[0;34m(\u001b[0m\u001b[0mestimator\u001b[0m\u001b[0;34m,\u001b[0m \u001b[0;34m*\u001b[0m\u001b[0margs\u001b[0m\u001b[0;34m,\u001b[0m \u001b[0;34m**\u001b[0m\u001b[0mkwargs\u001b[0m\u001b[0;34m)\u001b[0m\u001b[0;34m\u001b[0m\u001b[0;34m\u001b[0m\u001b[0m\n\u001b[0m\u001b[1;32m   1390\u001b[0m \u001b[0;34m\u001b[0m\u001b[0m\n\u001b[1;32m   1391\u001b[0m         \u001b[0;32mreturn\u001b[0m \u001b[0mwrapper\u001b[0m\u001b[0;34m\u001b[0m\u001b[0;34m\u001b[0m\u001b[0m\n",
            "\u001b[0;32m/usr/local/lib/python3.11/dist-packages/sklearn/naive_bayes.py\u001b[0m in \u001b[0;36mfit\u001b[0;34m(self, X, y, sample_weight)\u001b[0m\n\u001b[1;32m    733\u001b[0m             \u001b[0mReturns\u001b[0m \u001b[0mthe\u001b[0m \u001b[0minstance\u001b[0m \u001b[0mitself\u001b[0m\u001b[0;34m.\u001b[0m\u001b[0;34m\u001b[0m\u001b[0;34m\u001b[0m\u001b[0m\n\u001b[1;32m    734\u001b[0m         \"\"\"\n\u001b[0;32m--> 735\u001b[0;31m         \u001b[0mX\u001b[0m\u001b[0;34m,\u001b[0m \u001b[0my\u001b[0m \u001b[0;34m=\u001b[0m \u001b[0mself\u001b[0m\u001b[0;34m.\u001b[0m\u001b[0m_check_X_y\u001b[0m\u001b[0;34m(\u001b[0m\u001b[0mX\u001b[0m\u001b[0;34m,\u001b[0m \u001b[0my\u001b[0m\u001b[0;34m)\u001b[0m\u001b[0;34m\u001b[0m\u001b[0;34m\u001b[0m\u001b[0m\n\u001b[0m\u001b[1;32m    736\u001b[0m         \u001b[0m_\u001b[0m\u001b[0;34m,\u001b[0m \u001b[0mn_features\u001b[0m \u001b[0;34m=\u001b[0m \u001b[0mX\u001b[0m\u001b[0;34m.\u001b[0m\u001b[0mshape\u001b[0m\u001b[0;34m\u001b[0m\u001b[0;34m\u001b[0m\u001b[0m\n\u001b[1;32m    737\u001b[0m \u001b[0;34m\u001b[0m\u001b[0m\n",
            "\u001b[0;32m/usr/local/lib/python3.11/dist-packages/sklearn/naive_bayes.py\u001b[0m in \u001b[0;36m_check_X_y\u001b[0;34m(self, X, y, reset)\u001b[0m\n\u001b[1;32m    579\u001b[0m     \u001b[0;32mdef\u001b[0m \u001b[0m_check_X_y\u001b[0m\u001b[0;34m(\u001b[0m\u001b[0mself\u001b[0m\u001b[0;34m,\u001b[0m \u001b[0mX\u001b[0m\u001b[0;34m,\u001b[0m \u001b[0my\u001b[0m\u001b[0;34m,\u001b[0m \u001b[0mreset\u001b[0m\u001b[0;34m=\u001b[0m\u001b[0;32mTrue\u001b[0m\u001b[0;34m)\u001b[0m\u001b[0;34m:\u001b[0m\u001b[0;34m\u001b[0m\u001b[0;34m\u001b[0m\u001b[0m\n\u001b[1;32m    580\u001b[0m         \u001b[0;34m\"\"\"Validate X and y in fit methods.\"\"\"\u001b[0m\u001b[0;34m\u001b[0m\u001b[0;34m\u001b[0m\u001b[0m\n\u001b[0;32m--> 581\u001b[0;31m         \u001b[0;32mreturn\u001b[0m \u001b[0mvalidate_data\u001b[0m\u001b[0;34m(\u001b[0m\u001b[0mself\u001b[0m\u001b[0;34m,\u001b[0m \u001b[0mX\u001b[0m\u001b[0;34m,\u001b[0m \u001b[0my\u001b[0m\u001b[0;34m,\u001b[0m \u001b[0maccept_sparse\u001b[0m\u001b[0;34m=\u001b[0m\u001b[0;34m\"csr\"\u001b[0m\u001b[0;34m,\u001b[0m \u001b[0mreset\u001b[0m\u001b[0;34m=\u001b[0m\u001b[0mreset\u001b[0m\u001b[0;34m)\u001b[0m\u001b[0;34m\u001b[0m\u001b[0;34m\u001b[0m\u001b[0m\n\u001b[0m\u001b[1;32m    582\u001b[0m \u001b[0;34m\u001b[0m\u001b[0m\n\u001b[1;32m    583\u001b[0m     \u001b[0;32mdef\u001b[0m \u001b[0m_update_class_log_prior\u001b[0m\u001b[0;34m(\u001b[0m\u001b[0mself\u001b[0m\u001b[0;34m,\u001b[0m \u001b[0mclass_prior\u001b[0m\u001b[0;34m=\u001b[0m\u001b[0;32mNone\u001b[0m\u001b[0;34m)\u001b[0m\u001b[0;34m:\u001b[0m\u001b[0;34m\u001b[0m\u001b[0;34m\u001b[0m\u001b[0m\n",
            "\u001b[0;32m/usr/local/lib/python3.11/dist-packages/sklearn/utils/validation.py\u001b[0m in \u001b[0;36mvalidate_data\u001b[0;34m(_estimator, X, y, reset, validate_separately, skip_check_array, **check_params)\u001b[0m\n\u001b[1;32m   2959\u001b[0m             \u001b[0my\u001b[0m \u001b[0;34m=\u001b[0m \u001b[0mcheck_array\u001b[0m\u001b[0;34m(\u001b[0m\u001b[0my\u001b[0m\u001b[0;34m,\u001b[0m \u001b[0minput_name\u001b[0m\u001b[0;34m=\u001b[0m\u001b[0;34m\"y\"\u001b[0m\u001b[0;34m,\u001b[0m \u001b[0;34m**\u001b[0m\u001b[0mcheck_y_params\u001b[0m\u001b[0;34m)\u001b[0m\u001b[0;34m\u001b[0m\u001b[0;34m\u001b[0m\u001b[0m\n\u001b[1;32m   2960\u001b[0m         \u001b[0;32melse\u001b[0m\u001b[0;34m:\u001b[0m\u001b[0;34m\u001b[0m\u001b[0;34m\u001b[0m\u001b[0m\n\u001b[0;32m-> 2961\u001b[0;31m             \u001b[0mX\u001b[0m\u001b[0;34m,\u001b[0m \u001b[0my\u001b[0m \u001b[0;34m=\u001b[0m \u001b[0mcheck_X_y\u001b[0m\u001b[0;34m(\u001b[0m\u001b[0mX\u001b[0m\u001b[0;34m,\u001b[0m \u001b[0my\u001b[0m\u001b[0;34m,\u001b[0m \u001b[0;34m**\u001b[0m\u001b[0mcheck_params\u001b[0m\u001b[0;34m)\u001b[0m\u001b[0;34m\u001b[0m\u001b[0;34m\u001b[0m\u001b[0m\n\u001b[0m\u001b[1;32m   2962\u001b[0m         \u001b[0mout\u001b[0m \u001b[0;34m=\u001b[0m \u001b[0mX\u001b[0m\u001b[0;34m,\u001b[0m \u001b[0my\u001b[0m\u001b[0;34m\u001b[0m\u001b[0;34m\u001b[0m\u001b[0m\n\u001b[1;32m   2963\u001b[0m \u001b[0;34m\u001b[0m\u001b[0m\n",
            "\u001b[0;32m/usr/local/lib/python3.11/dist-packages/sklearn/utils/validation.py\u001b[0m in \u001b[0;36mcheck_X_y\u001b[0;34m(X, y, accept_sparse, accept_large_sparse, dtype, order, copy, force_writeable, force_all_finite, ensure_all_finite, ensure_2d, allow_nd, multi_output, ensure_min_samples, ensure_min_features, y_numeric, estimator)\u001b[0m\n\u001b[1;32m   1387\u001b[0m     \u001b[0my\u001b[0m \u001b[0;34m=\u001b[0m \u001b[0m_check_y\u001b[0m\u001b[0;34m(\u001b[0m\u001b[0my\u001b[0m\u001b[0;34m,\u001b[0m \u001b[0mmulti_output\u001b[0m\u001b[0;34m=\u001b[0m\u001b[0mmulti_output\u001b[0m\u001b[0;34m,\u001b[0m \u001b[0my_numeric\u001b[0m\u001b[0;34m=\u001b[0m\u001b[0my_numeric\u001b[0m\u001b[0;34m,\u001b[0m \u001b[0mestimator\u001b[0m\u001b[0;34m=\u001b[0m\u001b[0mestimator\u001b[0m\u001b[0;34m)\u001b[0m\u001b[0;34m\u001b[0m\u001b[0;34m\u001b[0m\u001b[0m\n\u001b[1;32m   1388\u001b[0m \u001b[0;34m\u001b[0m\u001b[0m\n\u001b[0;32m-> 1389\u001b[0;31m     \u001b[0mcheck_consistent_length\u001b[0m\u001b[0;34m(\u001b[0m\u001b[0mX\u001b[0m\u001b[0;34m,\u001b[0m \u001b[0my\u001b[0m\u001b[0;34m)\u001b[0m\u001b[0;34m\u001b[0m\u001b[0;34m\u001b[0m\u001b[0m\n\u001b[0m\u001b[1;32m   1390\u001b[0m \u001b[0;34m\u001b[0m\u001b[0m\n\u001b[1;32m   1391\u001b[0m     \u001b[0;32mreturn\u001b[0m \u001b[0mX\u001b[0m\u001b[0;34m,\u001b[0m \u001b[0my\u001b[0m\u001b[0;34m\u001b[0m\u001b[0;34m\u001b[0m\u001b[0m\n",
            "\u001b[0;32m/usr/local/lib/python3.11/dist-packages/sklearn/utils/validation.py\u001b[0m in \u001b[0;36mcheck_consistent_length\u001b[0;34m(*arrays)\u001b[0m\n\u001b[1;32m    473\u001b[0m     \u001b[0muniques\u001b[0m \u001b[0;34m=\u001b[0m \u001b[0mnp\u001b[0m\u001b[0;34m.\u001b[0m\u001b[0munique\u001b[0m\u001b[0;34m(\u001b[0m\u001b[0mlengths\u001b[0m\u001b[0;34m)\u001b[0m\u001b[0;34m\u001b[0m\u001b[0;34m\u001b[0m\u001b[0m\n\u001b[1;32m    474\u001b[0m     \u001b[0;32mif\u001b[0m \u001b[0mlen\u001b[0m\u001b[0;34m(\u001b[0m\u001b[0muniques\u001b[0m\u001b[0;34m)\u001b[0m \u001b[0;34m>\u001b[0m \u001b[0;36m1\u001b[0m\u001b[0;34m:\u001b[0m\u001b[0;34m\u001b[0m\u001b[0;34m\u001b[0m\u001b[0m\n\u001b[0;32m--> 475\u001b[0;31m         raise ValueError(\n\u001b[0m\u001b[1;32m    476\u001b[0m             \u001b[0;34m\"Found input variables with inconsistent numbers of samples: %r\"\u001b[0m\u001b[0;34m\u001b[0m\u001b[0;34m\u001b[0m\u001b[0m\n\u001b[1;32m    477\u001b[0m             \u001b[0;34m%\u001b[0m \u001b[0;34m[\u001b[0m\u001b[0mint\u001b[0m\u001b[0;34m(\u001b[0m\u001b[0ml\u001b[0m\u001b[0;34m)\u001b[0m \u001b[0;32mfor\u001b[0m \u001b[0ml\u001b[0m \u001b[0;32min\u001b[0m \u001b[0mlengths\u001b[0m\u001b[0;34m]\u001b[0m\u001b[0;34m\u001b[0m\u001b[0;34m\u001b[0m\u001b[0m\n",
            "\u001b[0;31mValueError\u001b[0m: Found input variables with inconsistent numbers of samples: [25569, 0]"
          ]
        }
      ]
    },
    {
      "cell_type": "code",
      "source": [
        "print(data.isnull().sum())  # Check if any column has NaN values\n"
      ],
      "metadata": {
        "colab": {
          "base_uri": "https://localhost:8080/"
        },
        "id": "cmJCemULY5dS",
        "outputId": "b47415be-21a2-4a5a-a063-ee614de8bfb1"
      },
      "execution_count": null,
      "outputs": [
        {
          "output_type": "stream",
          "name": "stdout",
          "text": [
            "label              31962\n",
            "message                0\n",
            "cleaned_message        0\n",
            "dtype: int64\n"
          ]
        }
      ]
    },
    {
      "cell_type": "markdown",
      "source": [],
      "metadata": {
        "id": "rzKeFa98ZaV9"
      }
    },
    {
      "cell_type": "code",
      "source": [
        "data = data.dropna(subset=['label'])  # Remove rows where 'label' is NaN\n"
      ],
      "metadata": {
        "id": "fvgLyGblZQi0"
      },
      "execution_count": null,
      "outputs": []
    },
    {
      "cell_type": "code",
      "source": [
        "print(data.isnull().sum())  # This should now show label = 0\n"
      ],
      "metadata": {
        "colab": {
          "base_uri": "https://localhost:8080/"
        },
        "id": "Q9TYHNt6ZhCF",
        "outputId": "24f833c8-8b5a-42f0-e688-212b1a31d9c9"
      },
      "execution_count": null,
      "outputs": [
        {
          "output_type": "stream",
          "name": "stdout",
          "text": [
            "label              0\n",
            "message            0\n",
            "cleaned_message    0\n",
            "dtype: int64\n"
          ]
        }
      ]
    },
    {
      "cell_type": "code",
      "source": [
        "X_train, X_test, y_train, y_test = train_test_split(\n",
        "    data['cleaned_message'], data['label'], test_size=0.2, random_state=42\n",
        ")\n",
        "\n"
      ],
      "metadata": {
        "colab": {
          "base_uri": "https://localhost:8080/",
          "height": 373
        },
        "id": "VxWFpY4mZjgY",
        "outputId": "56ac8080-8c6a-4e06-8508-a68d37962f34"
      },
      "execution_count": null,
      "outputs": [
        {
          "output_type": "error",
          "ename": "ValueError",
          "evalue": "With n_samples=0, test_size=0.2 and train_size=None, the resulting train set will be empty. Adjust any of the aforementioned parameters.",
          "traceback": [
            "\u001b[0;31m---------------------------------------------------------------------------\u001b[0m",
            "\u001b[0;31mValueError\u001b[0m                                Traceback (most recent call last)",
            "\u001b[0;32m<ipython-input-16-17cc1ae44c8f>\u001b[0m in \u001b[0;36m<cell line: 0>\u001b[0;34m()\u001b[0m\n\u001b[0;32m----> 1\u001b[0;31m X_train, X_test, y_train, y_test = train_test_split(\n\u001b[0m\u001b[1;32m      2\u001b[0m     \u001b[0mdata\u001b[0m\u001b[0;34m[\u001b[0m\u001b[0;34m'cleaned_message'\u001b[0m\u001b[0;34m]\u001b[0m\u001b[0;34m,\u001b[0m \u001b[0mdata\u001b[0m\u001b[0;34m[\u001b[0m\u001b[0;34m'label'\u001b[0m\u001b[0;34m]\u001b[0m\u001b[0;34m,\u001b[0m \u001b[0mtest_size\u001b[0m\u001b[0;34m=\u001b[0m\u001b[0;36m0.2\u001b[0m\u001b[0;34m,\u001b[0m \u001b[0mrandom_state\u001b[0m\u001b[0;34m=\u001b[0m\u001b[0;36m42\u001b[0m\u001b[0;34m\u001b[0m\u001b[0;34m\u001b[0m\u001b[0m\n\u001b[1;32m      3\u001b[0m )\n\u001b[1;32m      4\u001b[0m \u001b[0;34m\u001b[0m\u001b[0m\n",
            "\u001b[0;32m/usr/local/lib/python3.11/dist-packages/sklearn/utils/_param_validation.py\u001b[0m in \u001b[0;36mwrapper\u001b[0;34m(*args, **kwargs)\u001b[0m\n\u001b[1;32m    214\u001b[0m                     )\n\u001b[1;32m    215\u001b[0m                 ):\n\u001b[0;32m--> 216\u001b[0;31m                     \u001b[0;32mreturn\u001b[0m \u001b[0mfunc\u001b[0m\u001b[0;34m(\u001b[0m\u001b[0;34m*\u001b[0m\u001b[0margs\u001b[0m\u001b[0;34m,\u001b[0m \u001b[0;34m**\u001b[0m\u001b[0mkwargs\u001b[0m\u001b[0;34m)\u001b[0m\u001b[0;34m\u001b[0m\u001b[0;34m\u001b[0m\u001b[0m\n\u001b[0m\u001b[1;32m    217\u001b[0m             \u001b[0;32mexcept\u001b[0m \u001b[0mInvalidParameterError\u001b[0m \u001b[0;32mas\u001b[0m \u001b[0me\u001b[0m\u001b[0;34m:\u001b[0m\u001b[0;34m\u001b[0m\u001b[0;34m\u001b[0m\u001b[0m\n\u001b[1;32m    218\u001b[0m                 \u001b[0;31m# When the function is just a wrapper around an estimator, we allow\u001b[0m\u001b[0;34m\u001b[0m\u001b[0;34m\u001b[0m\u001b[0m\n",
            "\u001b[0;32m/usr/local/lib/python3.11/dist-packages/sklearn/model_selection/_split.py\u001b[0m in \u001b[0;36mtrain_test_split\u001b[0;34m(test_size, train_size, random_state, shuffle, stratify, *arrays)\u001b[0m\n\u001b[1;32m   2849\u001b[0m \u001b[0;34m\u001b[0m\u001b[0m\n\u001b[1;32m   2850\u001b[0m     \u001b[0mn_samples\u001b[0m \u001b[0;34m=\u001b[0m \u001b[0m_num_samples\u001b[0m\u001b[0;34m(\u001b[0m\u001b[0marrays\u001b[0m\u001b[0;34m[\u001b[0m\u001b[0;36m0\u001b[0m\u001b[0;34m]\u001b[0m\u001b[0;34m)\u001b[0m\u001b[0;34m\u001b[0m\u001b[0;34m\u001b[0m\u001b[0m\n\u001b[0;32m-> 2851\u001b[0;31m     n_train, n_test = _validate_shuffle_split(\n\u001b[0m\u001b[1;32m   2852\u001b[0m         \u001b[0mn_samples\u001b[0m\u001b[0;34m,\u001b[0m \u001b[0mtest_size\u001b[0m\u001b[0;34m,\u001b[0m \u001b[0mtrain_size\u001b[0m\u001b[0;34m,\u001b[0m \u001b[0mdefault_test_size\u001b[0m\u001b[0;34m=\u001b[0m\u001b[0;36m0.25\u001b[0m\u001b[0;34m\u001b[0m\u001b[0;34m\u001b[0m\u001b[0m\n\u001b[1;32m   2853\u001b[0m     )\n",
            "\u001b[0;32m/usr/local/lib/python3.11/dist-packages/sklearn/model_selection/_split.py\u001b[0m in \u001b[0;36m_validate_shuffle_split\u001b[0;34m(n_samples, test_size, train_size, default_test_size)\u001b[0m\n\u001b[1;32m   2479\u001b[0m \u001b[0;34m\u001b[0m\u001b[0m\n\u001b[1;32m   2480\u001b[0m     \u001b[0;32mif\u001b[0m \u001b[0mn_train\u001b[0m \u001b[0;34m==\u001b[0m \u001b[0;36m0\u001b[0m\u001b[0;34m:\u001b[0m\u001b[0;34m\u001b[0m\u001b[0;34m\u001b[0m\u001b[0m\n\u001b[0;32m-> 2481\u001b[0;31m         raise ValueError(\n\u001b[0m\u001b[1;32m   2482\u001b[0m             \u001b[0;34m\"With n_samples={}, test_size={} and train_size={}, the \"\u001b[0m\u001b[0;34m\u001b[0m\u001b[0;34m\u001b[0m\u001b[0m\n\u001b[1;32m   2483\u001b[0m             \u001b[0;34m\"resulting train set will be empty. Adjust any of the \"\u001b[0m\u001b[0;34m\u001b[0m\u001b[0;34m\u001b[0m\u001b[0m\n",
            "\u001b[0;31mValueError\u001b[0m: With n_samples=0, test_size=0.2 and train_size=None, the resulting train set will be empty. Adjust any of the aforementioned parameters."
          ]
        }
      ]
    },
    {
      "cell_type": "code",
      "source": [
        "X_train, X_test, y_train, y_test = train_test_split(\n",
        "    data['cleaned_message'], data['label'], test_size=0.2, random_state=42\n",
        ")\n"
      ],
      "metadata": {
        "colab": {
          "base_uri": "https://localhost:8080/",
          "height": 356
        },
        "id": "VNrQAG_rZnHq",
        "outputId": "35bbf25a-cde9-4e09-cdf6-65df9ac8591b"
      },
      "execution_count": null,
      "outputs": [
        {
          "output_type": "error",
          "ename": "ValueError",
          "evalue": "With n_samples=0, test_size=0.2 and train_size=None, the resulting train set will be empty. Adjust any of the aforementioned parameters.",
          "traceback": [
            "\u001b[0;31m---------------------------------------------------------------------------\u001b[0m",
            "\u001b[0;31mValueError\u001b[0m                                Traceback (most recent call last)",
            "\u001b[0;32m<ipython-input-17-621d95f8c6d5>\u001b[0m in \u001b[0;36m<cell line: 0>\u001b[0;34m()\u001b[0m\n\u001b[0;32m----> 1\u001b[0;31m X_train, X_test, y_train, y_test = train_test_split(\n\u001b[0m\u001b[1;32m      2\u001b[0m     \u001b[0mdata\u001b[0m\u001b[0;34m[\u001b[0m\u001b[0;34m'cleaned_message'\u001b[0m\u001b[0;34m]\u001b[0m\u001b[0;34m,\u001b[0m \u001b[0mdata\u001b[0m\u001b[0;34m[\u001b[0m\u001b[0;34m'label'\u001b[0m\u001b[0;34m]\u001b[0m\u001b[0;34m,\u001b[0m \u001b[0mtest_size\u001b[0m\u001b[0;34m=\u001b[0m\u001b[0;36m0.2\u001b[0m\u001b[0;34m,\u001b[0m \u001b[0mrandom_state\u001b[0m\u001b[0;34m=\u001b[0m\u001b[0;36m42\u001b[0m\u001b[0;34m\u001b[0m\u001b[0;34m\u001b[0m\u001b[0m\n\u001b[1;32m      3\u001b[0m )\n",
            "\u001b[0;32m/usr/local/lib/python3.11/dist-packages/sklearn/utils/_param_validation.py\u001b[0m in \u001b[0;36mwrapper\u001b[0;34m(*args, **kwargs)\u001b[0m\n\u001b[1;32m    214\u001b[0m                     )\n\u001b[1;32m    215\u001b[0m                 ):\n\u001b[0;32m--> 216\u001b[0;31m                     \u001b[0;32mreturn\u001b[0m \u001b[0mfunc\u001b[0m\u001b[0;34m(\u001b[0m\u001b[0;34m*\u001b[0m\u001b[0margs\u001b[0m\u001b[0;34m,\u001b[0m \u001b[0;34m**\u001b[0m\u001b[0mkwargs\u001b[0m\u001b[0;34m)\u001b[0m\u001b[0;34m\u001b[0m\u001b[0;34m\u001b[0m\u001b[0m\n\u001b[0m\u001b[1;32m    217\u001b[0m             \u001b[0;32mexcept\u001b[0m \u001b[0mInvalidParameterError\u001b[0m \u001b[0;32mas\u001b[0m \u001b[0me\u001b[0m\u001b[0;34m:\u001b[0m\u001b[0;34m\u001b[0m\u001b[0;34m\u001b[0m\u001b[0m\n\u001b[1;32m    218\u001b[0m                 \u001b[0;31m# When the function is just a wrapper around an estimator, we allow\u001b[0m\u001b[0;34m\u001b[0m\u001b[0;34m\u001b[0m\u001b[0m\n",
            "\u001b[0;32m/usr/local/lib/python3.11/dist-packages/sklearn/model_selection/_split.py\u001b[0m in \u001b[0;36mtrain_test_split\u001b[0;34m(test_size, train_size, random_state, shuffle, stratify, *arrays)\u001b[0m\n\u001b[1;32m   2849\u001b[0m \u001b[0;34m\u001b[0m\u001b[0m\n\u001b[1;32m   2850\u001b[0m     \u001b[0mn_samples\u001b[0m \u001b[0;34m=\u001b[0m \u001b[0m_num_samples\u001b[0m\u001b[0;34m(\u001b[0m\u001b[0marrays\u001b[0m\u001b[0;34m[\u001b[0m\u001b[0;36m0\u001b[0m\u001b[0;34m]\u001b[0m\u001b[0;34m)\u001b[0m\u001b[0;34m\u001b[0m\u001b[0;34m\u001b[0m\u001b[0m\n\u001b[0;32m-> 2851\u001b[0;31m     n_train, n_test = _validate_shuffle_split(\n\u001b[0m\u001b[1;32m   2852\u001b[0m         \u001b[0mn_samples\u001b[0m\u001b[0;34m,\u001b[0m \u001b[0mtest_size\u001b[0m\u001b[0;34m,\u001b[0m \u001b[0mtrain_size\u001b[0m\u001b[0;34m,\u001b[0m \u001b[0mdefault_test_size\u001b[0m\u001b[0;34m=\u001b[0m\u001b[0;36m0.25\u001b[0m\u001b[0;34m\u001b[0m\u001b[0;34m\u001b[0m\u001b[0m\n\u001b[1;32m   2853\u001b[0m     )\n",
            "\u001b[0;32m/usr/local/lib/python3.11/dist-packages/sklearn/model_selection/_split.py\u001b[0m in \u001b[0;36m_validate_shuffle_split\u001b[0;34m(n_samples, test_size, train_size, default_test_size)\u001b[0m\n\u001b[1;32m   2479\u001b[0m \u001b[0;34m\u001b[0m\u001b[0m\n\u001b[1;32m   2480\u001b[0m     \u001b[0;32mif\u001b[0m \u001b[0mn_train\u001b[0m \u001b[0;34m==\u001b[0m \u001b[0;36m0\u001b[0m\u001b[0;34m:\u001b[0m\u001b[0;34m\u001b[0m\u001b[0;34m\u001b[0m\u001b[0m\n\u001b[0;32m-> 2481\u001b[0;31m         raise ValueError(\n\u001b[0m\u001b[1;32m   2482\u001b[0m             \u001b[0;34m\"With n_samples={}, test_size={} and train_size={}, the \"\u001b[0m\u001b[0;34m\u001b[0m\u001b[0;34m\u001b[0m\u001b[0m\n\u001b[1;32m   2483\u001b[0m             \u001b[0;34m\"resulting train set will be empty. Adjust any of the \"\u001b[0m\u001b[0;34m\u001b[0m\u001b[0;34m\u001b[0m\u001b[0m\n",
            "\u001b[0;31mValueError\u001b[0m: With n_samples=0, test_size=0.2 and train_size=None, the resulting train set will be empty. Adjust any of the aforementioned parameters."
          ]
        }
      ]
    },
    {
      "cell_type": "code",
      "source": [
        "print(f\"Total rows before cleaning: {data.shape[0]}\")\n"
      ],
      "metadata": {
        "colab": {
          "base_uri": "https://localhost:8080/"
        },
        "id": "igB3Na8qZt4u",
        "outputId": "319c6381-b4fa-4c8c-d3bf-0da4b402e5c5"
      },
      "execution_count": null,
      "outputs": [
        {
          "output_type": "stream",
          "name": "stdout",
          "text": [
            "Total rows before cleaning: 0\n"
          ]
        }
      ]
    },
    {
      "cell_type": "code",
      "source": [
        "data = pd.read_csv('https://raw.githubusercontent.com/justmarkham/DAT8/master/data/sms.tsv', sep='\\t', header=None, names=['label', 'message'])\n"
      ],
      "metadata": {
        "id": "XEw6NRRUZ801"
      },
      "execution_count": null,
      "outputs": []
    },
    {
      "cell_type": "code",
      "source": [
        "print(data.head())  # Check if data is loaded correctly\n",
        "print(data.isnull().sum())  # Check for missing values\n",
        "\n",
        "\n"
      ],
      "metadata": {
        "colab": {
          "base_uri": "https://localhost:8080/"
        },
        "id": "XqSoIdjGaCY0",
        "outputId": "bf47f198-a9a4-47b4-c234-ca5e1a0c925f"
      },
      "execution_count": null,
      "outputs": [
        {
          "output_type": "stream",
          "name": "stdout",
          "text": [
            "  label                                            message\n",
            "0   ham  Go until jurong point, crazy.. Available only ...\n",
            "1   ham                      Ok lar... Joking wif u oni...\n",
            "2  spam  Free entry in 2 a wkly comp to win FA Cup fina...\n",
            "3   ham  U dun say so early hor... U c already then say...\n",
            "4   ham  Nah I don't think he goes to usf, he lives aro...\n",
            "label      0\n",
            "message    0\n",
            "dtype: int64\n"
          ]
        }
      ]
    },
    {
      "cell_type": "code",
      "source": [
        "data.dropna(subset=['label'], inplace=True)\n"
      ],
      "metadata": {
        "id": "uR0VuwzsaK2O"
      },
      "execution_count": null,
      "outputs": []
    },
    {
      "cell_type": "code",
      "source": [
        "X_train, X_test, y_train, y_test = train_test_split(\n",
        "    data['message'], data['label'], test_size=0.2, random_state=42\n",
        ")\n",
        "\n"
      ],
      "metadata": {
        "id": "c_AKbtRHaS9s"
      },
      "execution_count": null,
      "outputs": []
    },
    {
      "cell_type": "code",
      "source": [
        "import pandas as pd\n",
        "import numpy as np\n",
        "import re\n",
        "import nltk\n",
        "import string\n",
        "import matplotlib.pyplot as plt\n",
        "import seaborn as sns\n",
        "from wordcloud import WordCloud\n",
        "from sklearn.model_selection import train_test_split\n",
        "from sklearn.feature_extraction.text import TfidfVectorizer\n",
        "from sklearn.naive_bayes import MultinomialNB\n",
        "from sklearn.metrics import accuracy_score, confusion_matrix, classification_report\n",
        "\n",
        "# Download NLTK stopwords\n",
        "nltk.download('stopwords')\n",
        "from nltk.corpus import stopwords\n",
        "\n",
        "# Load the dataset (updated working link)\n",
        "data = pd.read_csv('https://raw.githubusercontent.com/justmarkham/DAT8/master/data/sms.tsv',\n",
        "                   sep='\\t', header=None, names=['label', 'message'])\n",
        "\n",
        "# Check for missing values\n",
        "print(data.isnull().sum())\n",
        "\n",
        "# Convert labels to binary\n",
        "data['label'] = data['label'].map({'ham': 0, 'spam': 1})\n",
        "\n",
        "# Drop NaN values if any exist\n",
        "data.dropna(subset=['label'], inplace=True)\n",
        "\n"
      ],
      "metadata": {
        "colab": {
          "base_uri": "https://localhost:8080/"
        },
        "id": "2QNRayvzaWOo",
        "outputId": "f0d478a4-10f8-468a-e91a-4d9f6fd81f86"
      },
      "execution_count": null,
      "outputs": [
        {
          "output_type": "stream",
          "name": "stdout",
          "text": [
            "label      0\n",
            "message    0\n",
            "dtype: int64\n"
          ]
        },
        {
          "output_type": "stream",
          "name": "stderr",
          "text": [
            "[nltk_data] Downloading package stopwords to /root/nltk_data...\n",
            "[nltk_data]   Package stopwords is already up-to-date!\n"
          ]
        }
      ]
    },
    {
      "cell_type": "code",
      "source": [
        "def clean_text(text):\n",
        "    text = text.lower()\n",
        "    text = re.sub(r'\\d+', '', text)  # Remove numbers\n",
        "    text = text.translate(str.maketrans('', '', string.punctuation))  # Remove punctuation\n",
        "    words = text.split()\n",
        "    words = [word for word in words if word not in stopwords.words('english')]\n",
        "    return ' '.join(words)\n",
        "\n",
        "data['cleaned_message'] = data['message'].apply(clean_text)\n"
      ],
      "metadata": {
        "id": "7LW36oWNatG7"
      },
      "execution_count": null,
      "outputs": []
    },
    {
      "cell_type": "code",
      "source": [
        "X_train, X_test, y_train, y_test = train_test_split(\n",
        "    data['cleaned_message'], data['label'], test_size=0.2, random_state=42\n",
        ")\n"
      ],
      "metadata": {
        "id": "-1z-Ozx8au7B"
      },
      "execution_count": null,
      "outputs": []
    },
    {
      "cell_type": "code",
      "source": [
        "vectorizer = TfidfVectorizer()\n",
        "X_train_vec = vectorizer.fit_transform(X_train)\n",
        "X_test_vec = vectorizer.transform(X_test)\n"
      ],
      "metadata": {
        "id": "rPx7GAu7ay79"
      },
      "execution_count": null,
      "outputs": []
    },
    {
      "cell_type": "code",
      "source": [
        "model = MultinomialNB()\n",
        "model.fit(X_train_vec, y_train)\n",
        "\n"
      ],
      "metadata": {
        "colab": {
          "base_uri": "https://localhost:8080/",
          "height": 80
        },
        "id": "wAygkUuQa07N",
        "outputId": "95964aeb-c0f1-4265-9be8-741e5c5878de"
      },
      "execution_count": null,
      "outputs": [
        {
          "output_type": "execute_result",
          "data": {
            "text/plain": [
              "MultinomialNB()"
            ],
            "text/html": [
              "<style>#sk-container-id-1 {\n",
              "  /* Definition of color scheme common for light and dark mode */\n",
              "  --sklearn-color-text: #000;\n",
              "  --sklearn-color-text-muted: #666;\n",
              "  --sklearn-color-line: gray;\n",
              "  /* Definition of color scheme for unfitted estimators */\n",
              "  --sklearn-color-unfitted-level-0: #fff5e6;\n",
              "  --sklearn-color-unfitted-level-1: #f6e4d2;\n",
              "  --sklearn-color-unfitted-level-2: #ffe0b3;\n",
              "  --sklearn-color-unfitted-level-3: chocolate;\n",
              "  /* Definition of color scheme for fitted estimators */\n",
              "  --sklearn-color-fitted-level-0: #f0f8ff;\n",
              "  --sklearn-color-fitted-level-1: #d4ebff;\n",
              "  --sklearn-color-fitted-level-2: #b3dbfd;\n",
              "  --sklearn-color-fitted-level-3: cornflowerblue;\n",
              "\n",
              "  /* Specific color for light theme */\n",
              "  --sklearn-color-text-on-default-background: var(--sg-text-color, var(--theme-code-foreground, var(--jp-content-font-color1, black)));\n",
              "  --sklearn-color-background: var(--sg-background-color, var(--theme-background, var(--jp-layout-color0, white)));\n",
              "  --sklearn-color-border-box: var(--sg-text-color, var(--theme-code-foreground, var(--jp-content-font-color1, black)));\n",
              "  --sklearn-color-icon: #696969;\n",
              "\n",
              "  @media (prefers-color-scheme: dark) {\n",
              "    /* Redefinition of color scheme for dark theme */\n",
              "    --sklearn-color-text-on-default-background: var(--sg-text-color, var(--theme-code-foreground, var(--jp-content-font-color1, white)));\n",
              "    --sklearn-color-background: var(--sg-background-color, var(--theme-background, var(--jp-layout-color0, #111)));\n",
              "    --sklearn-color-border-box: var(--sg-text-color, var(--theme-code-foreground, var(--jp-content-font-color1, white)));\n",
              "    --sklearn-color-icon: #878787;\n",
              "  }\n",
              "}\n",
              "\n",
              "#sk-container-id-1 {\n",
              "  color: var(--sklearn-color-text);\n",
              "}\n",
              "\n",
              "#sk-container-id-1 pre {\n",
              "  padding: 0;\n",
              "}\n",
              "\n",
              "#sk-container-id-1 input.sk-hidden--visually {\n",
              "  border: 0;\n",
              "  clip: rect(1px 1px 1px 1px);\n",
              "  clip: rect(1px, 1px, 1px, 1px);\n",
              "  height: 1px;\n",
              "  margin: -1px;\n",
              "  overflow: hidden;\n",
              "  padding: 0;\n",
              "  position: absolute;\n",
              "  width: 1px;\n",
              "}\n",
              "\n",
              "#sk-container-id-1 div.sk-dashed-wrapped {\n",
              "  border: 1px dashed var(--sklearn-color-line);\n",
              "  margin: 0 0.4em 0.5em 0.4em;\n",
              "  box-sizing: border-box;\n",
              "  padding-bottom: 0.4em;\n",
              "  background-color: var(--sklearn-color-background);\n",
              "}\n",
              "\n",
              "#sk-container-id-1 div.sk-container {\n",
              "  /* jupyter's `normalize.less` sets `[hidden] { display: none; }`\n",
              "     but bootstrap.min.css set `[hidden] { display: none !important; }`\n",
              "     so we also need the `!important` here to be able to override the\n",
              "     default hidden behavior on the sphinx rendered scikit-learn.org.\n",
              "     See: https://github.com/scikit-learn/scikit-learn/issues/21755 */\n",
              "  display: inline-block !important;\n",
              "  position: relative;\n",
              "}\n",
              "\n",
              "#sk-container-id-1 div.sk-text-repr-fallback {\n",
              "  display: none;\n",
              "}\n",
              "\n",
              "div.sk-parallel-item,\n",
              "div.sk-serial,\n",
              "div.sk-item {\n",
              "  /* draw centered vertical line to link estimators */\n",
              "  background-image: linear-gradient(var(--sklearn-color-text-on-default-background), var(--sklearn-color-text-on-default-background));\n",
              "  background-size: 2px 100%;\n",
              "  background-repeat: no-repeat;\n",
              "  background-position: center center;\n",
              "}\n",
              "\n",
              "/* Parallel-specific style estimator block */\n",
              "\n",
              "#sk-container-id-1 div.sk-parallel-item::after {\n",
              "  content: \"\";\n",
              "  width: 100%;\n",
              "  border-bottom: 2px solid var(--sklearn-color-text-on-default-background);\n",
              "  flex-grow: 1;\n",
              "}\n",
              "\n",
              "#sk-container-id-1 div.sk-parallel {\n",
              "  display: flex;\n",
              "  align-items: stretch;\n",
              "  justify-content: center;\n",
              "  background-color: var(--sklearn-color-background);\n",
              "  position: relative;\n",
              "}\n",
              "\n",
              "#sk-container-id-1 div.sk-parallel-item {\n",
              "  display: flex;\n",
              "  flex-direction: column;\n",
              "}\n",
              "\n",
              "#sk-container-id-1 div.sk-parallel-item:first-child::after {\n",
              "  align-self: flex-end;\n",
              "  width: 50%;\n",
              "}\n",
              "\n",
              "#sk-container-id-1 div.sk-parallel-item:last-child::after {\n",
              "  align-self: flex-start;\n",
              "  width: 50%;\n",
              "}\n",
              "\n",
              "#sk-container-id-1 div.sk-parallel-item:only-child::after {\n",
              "  width: 0;\n",
              "}\n",
              "\n",
              "/* Serial-specific style estimator block */\n",
              "\n",
              "#sk-container-id-1 div.sk-serial {\n",
              "  display: flex;\n",
              "  flex-direction: column;\n",
              "  align-items: center;\n",
              "  background-color: var(--sklearn-color-background);\n",
              "  padding-right: 1em;\n",
              "  padding-left: 1em;\n",
              "}\n",
              "\n",
              "\n",
              "/* Toggleable style: style used for estimator/Pipeline/ColumnTransformer box that is\n",
              "clickable and can be expanded/collapsed.\n",
              "- Pipeline and ColumnTransformer use this feature and define the default style\n",
              "- Estimators will overwrite some part of the style using the `sk-estimator` class\n",
              "*/\n",
              "\n",
              "/* Pipeline and ColumnTransformer style (default) */\n",
              "\n",
              "#sk-container-id-1 div.sk-toggleable {\n",
              "  /* Default theme specific background. It is overwritten whether we have a\n",
              "  specific estimator or a Pipeline/ColumnTransformer */\n",
              "  background-color: var(--sklearn-color-background);\n",
              "}\n",
              "\n",
              "/* Toggleable label */\n",
              "#sk-container-id-1 label.sk-toggleable__label {\n",
              "  cursor: pointer;\n",
              "  display: flex;\n",
              "  width: 100%;\n",
              "  margin-bottom: 0;\n",
              "  padding: 0.5em;\n",
              "  box-sizing: border-box;\n",
              "  text-align: center;\n",
              "  align-items: start;\n",
              "  justify-content: space-between;\n",
              "  gap: 0.5em;\n",
              "}\n",
              "\n",
              "#sk-container-id-1 label.sk-toggleable__label .caption {\n",
              "  font-size: 0.6rem;\n",
              "  font-weight: lighter;\n",
              "  color: var(--sklearn-color-text-muted);\n",
              "}\n",
              "\n",
              "#sk-container-id-1 label.sk-toggleable__label-arrow:before {\n",
              "  /* Arrow on the left of the label */\n",
              "  content: \"▸\";\n",
              "  float: left;\n",
              "  margin-right: 0.25em;\n",
              "  color: var(--sklearn-color-icon);\n",
              "}\n",
              "\n",
              "#sk-container-id-1 label.sk-toggleable__label-arrow:hover:before {\n",
              "  color: var(--sklearn-color-text);\n",
              "}\n",
              "\n",
              "/* Toggleable content - dropdown */\n",
              "\n",
              "#sk-container-id-1 div.sk-toggleable__content {\n",
              "  max-height: 0;\n",
              "  max-width: 0;\n",
              "  overflow: hidden;\n",
              "  text-align: left;\n",
              "  /* unfitted */\n",
              "  background-color: var(--sklearn-color-unfitted-level-0);\n",
              "}\n",
              "\n",
              "#sk-container-id-1 div.sk-toggleable__content.fitted {\n",
              "  /* fitted */\n",
              "  background-color: var(--sklearn-color-fitted-level-0);\n",
              "}\n",
              "\n",
              "#sk-container-id-1 div.sk-toggleable__content pre {\n",
              "  margin: 0.2em;\n",
              "  border-radius: 0.25em;\n",
              "  color: var(--sklearn-color-text);\n",
              "  /* unfitted */\n",
              "  background-color: var(--sklearn-color-unfitted-level-0);\n",
              "}\n",
              "\n",
              "#sk-container-id-1 div.sk-toggleable__content.fitted pre {\n",
              "  /* unfitted */\n",
              "  background-color: var(--sklearn-color-fitted-level-0);\n",
              "}\n",
              "\n",
              "#sk-container-id-1 input.sk-toggleable__control:checked~div.sk-toggleable__content {\n",
              "  /* Expand drop-down */\n",
              "  max-height: 200px;\n",
              "  max-width: 100%;\n",
              "  overflow: auto;\n",
              "}\n",
              "\n",
              "#sk-container-id-1 input.sk-toggleable__control:checked~label.sk-toggleable__label-arrow:before {\n",
              "  content: \"▾\";\n",
              "}\n",
              "\n",
              "/* Pipeline/ColumnTransformer-specific style */\n",
              "\n",
              "#sk-container-id-1 div.sk-label input.sk-toggleable__control:checked~label.sk-toggleable__label {\n",
              "  color: var(--sklearn-color-text);\n",
              "  background-color: var(--sklearn-color-unfitted-level-2);\n",
              "}\n",
              "\n",
              "#sk-container-id-1 div.sk-label.fitted input.sk-toggleable__control:checked~label.sk-toggleable__label {\n",
              "  background-color: var(--sklearn-color-fitted-level-2);\n",
              "}\n",
              "\n",
              "/* Estimator-specific style */\n",
              "\n",
              "/* Colorize estimator box */\n",
              "#sk-container-id-1 div.sk-estimator input.sk-toggleable__control:checked~label.sk-toggleable__label {\n",
              "  /* unfitted */\n",
              "  background-color: var(--sklearn-color-unfitted-level-2);\n",
              "}\n",
              "\n",
              "#sk-container-id-1 div.sk-estimator.fitted input.sk-toggleable__control:checked~label.sk-toggleable__label {\n",
              "  /* fitted */\n",
              "  background-color: var(--sklearn-color-fitted-level-2);\n",
              "}\n",
              "\n",
              "#sk-container-id-1 div.sk-label label.sk-toggleable__label,\n",
              "#sk-container-id-1 div.sk-label label {\n",
              "  /* The background is the default theme color */\n",
              "  color: var(--sklearn-color-text-on-default-background);\n",
              "}\n",
              "\n",
              "/* On hover, darken the color of the background */\n",
              "#sk-container-id-1 div.sk-label:hover label.sk-toggleable__label {\n",
              "  color: var(--sklearn-color-text);\n",
              "  background-color: var(--sklearn-color-unfitted-level-2);\n",
              "}\n",
              "\n",
              "/* Label box, darken color on hover, fitted */\n",
              "#sk-container-id-1 div.sk-label.fitted:hover label.sk-toggleable__label.fitted {\n",
              "  color: var(--sklearn-color-text);\n",
              "  background-color: var(--sklearn-color-fitted-level-2);\n",
              "}\n",
              "\n",
              "/* Estimator label */\n",
              "\n",
              "#sk-container-id-1 div.sk-label label {\n",
              "  font-family: monospace;\n",
              "  font-weight: bold;\n",
              "  display: inline-block;\n",
              "  line-height: 1.2em;\n",
              "}\n",
              "\n",
              "#sk-container-id-1 div.sk-label-container {\n",
              "  text-align: center;\n",
              "}\n",
              "\n",
              "/* Estimator-specific */\n",
              "#sk-container-id-1 div.sk-estimator {\n",
              "  font-family: monospace;\n",
              "  border: 1px dotted var(--sklearn-color-border-box);\n",
              "  border-radius: 0.25em;\n",
              "  box-sizing: border-box;\n",
              "  margin-bottom: 0.5em;\n",
              "  /* unfitted */\n",
              "  background-color: var(--sklearn-color-unfitted-level-0);\n",
              "}\n",
              "\n",
              "#sk-container-id-1 div.sk-estimator.fitted {\n",
              "  /* fitted */\n",
              "  background-color: var(--sklearn-color-fitted-level-0);\n",
              "}\n",
              "\n",
              "/* on hover */\n",
              "#sk-container-id-1 div.sk-estimator:hover {\n",
              "  /* unfitted */\n",
              "  background-color: var(--sklearn-color-unfitted-level-2);\n",
              "}\n",
              "\n",
              "#sk-container-id-1 div.sk-estimator.fitted:hover {\n",
              "  /* fitted */\n",
              "  background-color: var(--sklearn-color-fitted-level-2);\n",
              "}\n",
              "\n",
              "/* Specification for estimator info (e.g. \"i\" and \"?\") */\n",
              "\n",
              "/* Common style for \"i\" and \"?\" */\n",
              "\n",
              ".sk-estimator-doc-link,\n",
              "a:link.sk-estimator-doc-link,\n",
              "a:visited.sk-estimator-doc-link {\n",
              "  float: right;\n",
              "  font-size: smaller;\n",
              "  line-height: 1em;\n",
              "  font-family: monospace;\n",
              "  background-color: var(--sklearn-color-background);\n",
              "  border-radius: 1em;\n",
              "  height: 1em;\n",
              "  width: 1em;\n",
              "  text-decoration: none !important;\n",
              "  margin-left: 0.5em;\n",
              "  text-align: center;\n",
              "  /* unfitted */\n",
              "  border: var(--sklearn-color-unfitted-level-1) 1pt solid;\n",
              "  color: var(--sklearn-color-unfitted-level-1);\n",
              "}\n",
              "\n",
              ".sk-estimator-doc-link.fitted,\n",
              "a:link.sk-estimator-doc-link.fitted,\n",
              "a:visited.sk-estimator-doc-link.fitted {\n",
              "  /* fitted */\n",
              "  border: var(--sklearn-color-fitted-level-1) 1pt solid;\n",
              "  color: var(--sklearn-color-fitted-level-1);\n",
              "}\n",
              "\n",
              "/* On hover */\n",
              "div.sk-estimator:hover .sk-estimator-doc-link:hover,\n",
              ".sk-estimator-doc-link:hover,\n",
              "div.sk-label-container:hover .sk-estimator-doc-link:hover,\n",
              ".sk-estimator-doc-link:hover {\n",
              "  /* unfitted */\n",
              "  background-color: var(--sklearn-color-unfitted-level-3);\n",
              "  color: var(--sklearn-color-background);\n",
              "  text-decoration: none;\n",
              "}\n",
              "\n",
              "div.sk-estimator.fitted:hover .sk-estimator-doc-link.fitted:hover,\n",
              ".sk-estimator-doc-link.fitted:hover,\n",
              "div.sk-label-container:hover .sk-estimator-doc-link.fitted:hover,\n",
              ".sk-estimator-doc-link.fitted:hover {\n",
              "  /* fitted */\n",
              "  background-color: var(--sklearn-color-fitted-level-3);\n",
              "  color: var(--sklearn-color-background);\n",
              "  text-decoration: none;\n",
              "}\n",
              "\n",
              "/* Span, style for the box shown on hovering the info icon */\n",
              ".sk-estimator-doc-link span {\n",
              "  display: none;\n",
              "  z-index: 9999;\n",
              "  position: relative;\n",
              "  font-weight: normal;\n",
              "  right: .2ex;\n",
              "  padding: .5ex;\n",
              "  margin: .5ex;\n",
              "  width: min-content;\n",
              "  min-width: 20ex;\n",
              "  max-width: 50ex;\n",
              "  color: var(--sklearn-color-text);\n",
              "  box-shadow: 2pt 2pt 4pt #999;\n",
              "  /* unfitted */\n",
              "  background: var(--sklearn-color-unfitted-level-0);\n",
              "  border: .5pt solid var(--sklearn-color-unfitted-level-3);\n",
              "}\n",
              "\n",
              ".sk-estimator-doc-link.fitted span {\n",
              "  /* fitted */\n",
              "  background: var(--sklearn-color-fitted-level-0);\n",
              "  border: var(--sklearn-color-fitted-level-3);\n",
              "}\n",
              "\n",
              ".sk-estimator-doc-link:hover span {\n",
              "  display: block;\n",
              "}\n",
              "\n",
              "/* \"?\"-specific style due to the `<a>` HTML tag */\n",
              "\n",
              "#sk-container-id-1 a.estimator_doc_link {\n",
              "  float: right;\n",
              "  font-size: 1rem;\n",
              "  line-height: 1em;\n",
              "  font-family: monospace;\n",
              "  background-color: var(--sklearn-color-background);\n",
              "  border-radius: 1rem;\n",
              "  height: 1rem;\n",
              "  width: 1rem;\n",
              "  text-decoration: none;\n",
              "  /* unfitted */\n",
              "  color: var(--sklearn-color-unfitted-level-1);\n",
              "  border: var(--sklearn-color-unfitted-level-1) 1pt solid;\n",
              "}\n",
              "\n",
              "#sk-container-id-1 a.estimator_doc_link.fitted {\n",
              "  /* fitted */\n",
              "  border: var(--sklearn-color-fitted-level-1) 1pt solid;\n",
              "  color: var(--sklearn-color-fitted-level-1);\n",
              "}\n",
              "\n",
              "/* On hover */\n",
              "#sk-container-id-1 a.estimator_doc_link:hover {\n",
              "  /* unfitted */\n",
              "  background-color: var(--sklearn-color-unfitted-level-3);\n",
              "  color: var(--sklearn-color-background);\n",
              "  text-decoration: none;\n",
              "}\n",
              "\n",
              "#sk-container-id-1 a.estimator_doc_link.fitted:hover {\n",
              "  /* fitted */\n",
              "  background-color: var(--sklearn-color-fitted-level-3);\n",
              "}\n",
              "</style><div id=\"sk-container-id-1\" class=\"sk-top-container\"><div class=\"sk-text-repr-fallback\"><pre>MultinomialNB()</pre><b>In a Jupyter environment, please rerun this cell to show the HTML representation or trust the notebook. <br />On GitHub, the HTML representation is unable to render, please try loading this page with nbviewer.org.</b></div><div class=\"sk-container\" hidden><div class=\"sk-item\"><div class=\"sk-estimator fitted sk-toggleable\"><input class=\"sk-toggleable__control sk-hidden--visually\" id=\"sk-estimator-id-1\" type=\"checkbox\" checked><label for=\"sk-estimator-id-1\" class=\"sk-toggleable__label fitted sk-toggleable__label-arrow\"><div><div>MultinomialNB</div></div><div><a class=\"sk-estimator-doc-link fitted\" rel=\"noreferrer\" target=\"_blank\" href=\"https://scikit-learn.org/1.6/modules/generated/sklearn.naive_bayes.MultinomialNB.html\">?<span>Documentation for MultinomialNB</span></a><span class=\"sk-estimator-doc-link fitted\">i<span>Fitted</span></span></div></label><div class=\"sk-toggleable__content fitted\"><pre>MultinomialNB()</pre></div> </div></div></div></div>"
            ]
          },
          "metadata": {},
          "execution_count": 27
        }
      ]
    },
    {
      "cell_type": "code",
      "source": [
        "y_pred = model.predict(X_test_vec)\n"
      ],
      "metadata": {
        "id": "rrzSfwPGa2-L"
      },
      "execution_count": null,
      "outputs": []
    },
    {
      "cell_type": "code",
      "source": [
        "accuracy = accuracy_score(y_test, y_pred)\n",
        "print(f'Accuracy: {accuracy:.2f}')\n",
        "print('Classification Report:\\n', classification_report(y_test, y_pred))\n"
      ],
      "metadata": {
        "colab": {
          "base_uri": "https://localhost:8080/"
        },
        "id": "y6dyHtIEa5IQ",
        "outputId": "f3ab4c8a-6c81-4c6b-e794-be5a5c60dd46"
      },
      "execution_count": null,
      "outputs": [
        {
          "output_type": "stream",
          "name": "stdout",
          "text": [
            "Accuracy: 0.97\n",
            "Classification Report:\n",
            "               precision    recall  f1-score   support\n",
            "\n",
            "           0       0.97      1.00      0.98       966\n",
            "           1       1.00      0.79      0.88       149\n",
            "\n",
            "    accuracy                           0.97      1115\n",
            "   macro avg       0.98      0.89      0.93      1115\n",
            "weighted avg       0.97      0.97      0.97      1115\n",
            "\n"
          ]
        }
      ]
    },
    {
      "cell_type": "code",
      "source": [
        "plt.figure(figsize=(5, 5))\n",
        "sns.heatmap(confusion_matrix(y_test, y_pred), annot=True, fmt='d', cmap='Blues', xticklabels=['Ham', 'Spam'], yticklabels=['Ham', 'Spam'])\n",
        "plt.xlabel('Predicted')\n",
        "plt.ylabel('Actual')\n",
        "plt.title('Confusion Matrix')\n",
        "plt.show()\n"
      ],
      "metadata": {
        "colab": {
          "base_uri": "https://localhost:8080/",
          "height": 487
        },
        "id": "LVtP613fa7N8",
        "outputId": "3fb7c8fc-7524-4e9d-c43b-c86d6d14844b"
      },
      "execution_count": null,
      "outputs": [
        {
          "output_type": "display_data",
          "data": {
            "text/plain": [
              "<Figure size 500x500 with 2 Axes>"
            ],
            "image/png": "[encoded data removed]"
          },
          "metadata": {}
        }
      ]
    },
    {
      "cell_type": "code",
      "source": [
        "import pickle\n",
        "pickle.dump(model, open('spam_model.pkl', 'wb'))\n",
        "pickle.dump(vectorizer, open('vectorizer.pkl', 'wb'))\n",
        "\n",
        "print('Model saved as spam_model.pkl')\n",
        "print('Vectorizer saved as vectorizer.pkl')\n"
      ],
      "metadata": {
        "colab": {
          "base_uri": "https://localhost:8080/"
        },
        "id": "kxtJIg2Ba-HQ",
        "outputId": "3a953d86-16c4-4bdc-fd07-9c6b586eae1d"
      },
      "execution_count": null,
      "outputs": [
        {
          "output_type": "stream",
          "name": "stdout",
          "text": [
            "Model saved as spam_model.pkl\n",
            "Vectorizer saved as vectorizer.pkl\n"
          ]
        }
      ]
    },
    {
      "cell_type": "code",
      "source": [
        "!apt-get install git\n"
      ],
      "metadata": {
        "colab": {
          "base_uri": "https://localhost:8080/"
        },
        "id": "Rd_jkvz8bCqT",
        "outputId": "b5e1bf75-d3f8-4950-f662-275dfae2ecbf"
      },
      "execution_count": null,
      "outputs": [
        {
          "output_type": "stream",
          "name": "stdout",
          "text": [
            "Reading package lists... Done\n",
            "Building dependency tree... Done\n",
            "Reading state information... Done\n",
            "git is already the newest version (1:2.34.1-1ubuntu1.12).\n",
            "0 upgraded, 0 newly installed, 0 to remove and 29 not upgraded.\n"
          ]
        }
      ]
    },
    {
      "cell_type": "code",
      "source": [
        "!git config --global user.name \"ARYAKRI\"\n",
        "!git config --global user.email \"aryakumarinad@gmail.com\"\n"
      ],
      "metadata": {
        "id": "iMhqN6sGb6M6"
      },
      "execution_count": null,
      "outputs": []
    },
    {
      "cell_type": "code",
      "source": [
        "!git clone  https://github.com/ARYAKRI/Email_Spam_Detection.git"
      ],
      "metadata": {
        "colab": {
          "base_uri": "https://localhost:8080/"
        },
        "id": "-AfeOCHEeYGP",
        "outputId": "7c86e73e-d6bf-45d1-c211-4f100f03eca4"
      },
      "execution_count": null,
      "outputs": [
        {
          "output_type": "stream",
          "name": "stdout",
          "text": [
            "Cloning into 'Email_Spam_Detection'...\n",
            "remote: Enumerating objects: 3, done.\u001b[K\n",
            "remote: Counting objects: 100% (3/3), done.\u001b[K\n",
            "remote: Compressing objects: 100% (2/2), done.\u001b[K\n",
            "remote: Total 3 (delta 0), reused 0 (delta 0), pack-reused 0 (from 0)\u001b[K\n",
            "Receiving objects: 100% (3/3), done.\n"
          ]
        }
      ]
    },
    {
      "cell_type": "code",
      "source": [
        "import shutil\n",
        "\n",
        "# Define paths\n",
        "model_path = \"/content/spam_model.pkl\"\n",
        "vectorizer_path = \"/content/vectorizer.pkl\"\n",
        "notebook_path = \"/content/YourNotebook.ipynb\"\n",
        "\n",
        "# Move files to repo folder\n",
        "shutil.move(model_path, \"/content/YourRepository/spam_model.pkl\")\n",
        "shutil.move(vectorizer_path, \"/content/YourRepository/vectorizer.pkl\")\n",
        "shutil.move(notebook_path, \"/content/YourRepository/YourNotebook.ipynb\")\n",
        "\n",
        "print(\"Files moved to GitHub repo folder!\")\n"
      ],
      "metadata": {
        "colab": {
          "base_uri": "https://localhost:8080/",
          "height": 408
        },
        "id": "XJtOza06fIyI",
        "outputId": "caadfec1-cd4f-4a70-e504-e3b0eb6f678b"
      },
      "execution_count": null,
      "outputs": [
        {
          "output_type": "error",
          "ename": "FileNotFoundError",
          "evalue": "[Errno 2] No such file or directory: '/content/YourRepository/spam_model.pkl'",
          "traceback": [
            "\u001b[0;31m---------------------------------------------------------------------------\u001b[0m",
            "\u001b[0;31mFileNotFoundError\u001b[0m                         Traceback (most recent call last)",
            "\u001b[0;32m/usr/lib/python3.11/shutil.py\u001b[0m in \u001b[0;36mmove\u001b[0;34m(src, dst, copy_function)\u001b[0m\n\u001b[1;32m    852\u001b[0m     \u001b[0;32mtry\u001b[0m\u001b[0;34m:\u001b[0m\u001b[0;34m\u001b[0m\u001b[0;34m\u001b[0m\u001b[0m\n\u001b[0;32m--> 853\u001b[0;31m         \u001b[0mos\u001b[0m\u001b[0;34m.\u001b[0m\u001b[0mrename\u001b[0m\u001b[0;34m(\u001b[0m\u001b[0msrc\u001b[0m\u001b[0;34m,\u001b[0m \u001b[0mreal_dst\u001b[0m\u001b[0;34m)\u001b[0m\u001b[0;34m\u001b[0m\u001b[0;34m\u001b[0m\u001b[0m\n\u001b[0m\u001b[1;32m    854\u001b[0m     \u001b[0;32mexcept\u001b[0m \u001b[0mOSError\u001b[0m\u001b[0;34m:\u001b[0m\u001b[0;34m\u001b[0m\u001b[0;34m\u001b[0m\u001b[0m\n",
            "\u001b[0;31mFileNotFoundError\u001b[0m: [Errno 2] No such file or directory: '/content/spam_model.pkl' -> '/content/YourRepository/spam_model.pkl'",
            "\nDuring handling of the above exception, another exception occurred:\n",
            "\u001b[0;31mFileNotFoundError\u001b[0m                         Traceback (most recent call last)",
            "\u001b[0;32m<ipython-input-35-44b49a70649d>\u001b[0m in \u001b[0;36m<cell line: 0>\u001b[0;34m()\u001b[0m\n\u001b[1;32m      7\u001b[0m \u001b[0;34m\u001b[0m\u001b[0m\n\u001b[1;32m      8\u001b[0m \u001b[0;31m# Move files to repo folder\u001b[0m\u001b[0;34m\u001b[0m\u001b[0;34m\u001b[0m\u001b[0m\n\u001b[0;32m----> 9\u001b[0;31m \u001b[0mshutil\u001b[0m\u001b[0;34m.\u001b[0m\u001b[0mmove\u001b[0m\u001b[0;34m(\u001b[0m\u001b[0mmodel_path\u001b[0m\u001b[0;34m,\u001b[0m \u001b[0;34m\"/content/YourRepository/spam_model.pkl\"\u001b[0m\u001b[0;34m)\u001b[0m\u001b[0;34m\u001b[0m\u001b[0;34m\u001b[0m\u001b[0m\n\u001b[0m\u001b[1;32m     10\u001b[0m \u001b[0mshutil\u001b[0m\u001b[0;34m.\u001b[0m\u001b[0mmove\u001b[0m\u001b[0;34m(\u001b[0m\u001b[0mvectorizer_path\u001b[0m\u001b[0;34m,\u001b[0m \u001b[0;34m\"/content/YourRepository/vectorizer.pkl\"\u001b[0m\u001b[0;34m)\u001b[0m\u001b[0;34m\u001b[0m\u001b[0;34m\u001b[0m\u001b[0m\n\u001b[1;32m     11\u001b[0m \u001b[0mshutil\u001b[0m\u001b[0;34m.\u001b[0m\u001b[0mmove\u001b[0m\u001b[0;34m(\u001b[0m\u001b[0mnotebook_path\u001b[0m\u001b[0;34m,\u001b[0m \u001b[0;34m\"/content/YourRepository/YourNotebook.ipynb\"\u001b[0m\u001b[0;34m)\u001b[0m\u001b[0;34m\u001b[0m\u001b[0;34m\u001b[0m\u001b[0m\n",
            "\u001b[0;32m/usr/lib/python3.11/shutil.py\u001b[0m in \u001b[0;36mmove\u001b[0;34m(src, dst, copy_function)\u001b[0m\n\u001b[1;32m    871\u001b[0m             \u001b[0mrmtree\u001b[0m\u001b[0;34m(\u001b[0m\u001b[0msrc\u001b[0m\u001b[0;34m)\u001b[0m\u001b[0;34m\u001b[0m\u001b[0;34m\u001b[0m\u001b[0m\n\u001b[1;32m    872\u001b[0m         \u001b[0;32melse\u001b[0m\u001b[0;34m:\u001b[0m\u001b[0;34m\u001b[0m\u001b[0;34m\u001b[0m\u001b[0m\n\u001b[0;32m--> 873\u001b[0;31m             \u001b[0mcopy_function\u001b[0m\u001b[0;34m(\u001b[0m\u001b[0msrc\u001b[0m\u001b[0;34m,\u001b[0m \u001b[0mreal_dst\u001b[0m\u001b[0;34m)\u001b[0m\u001b[0;34m\u001b[0m\u001b[0;34m\u001b[0m\u001b[0m\n\u001b[0m\u001b[1;32m    874\u001b[0m             \u001b[0mos\u001b[0m\u001b[0;34m.\u001b[0m\u001b[0munlink\u001b[0m\u001b[0;34m(\u001b[0m\u001b[0msrc\u001b[0m\u001b[0;34m)\u001b[0m\u001b[0;34m\u001b[0m\u001b[0;34m\u001b[0m\u001b[0m\n\u001b[1;32m    875\u001b[0m     \u001b[0;32mreturn\u001b[0m \u001b[0mreal_dst\u001b[0m\u001b[0;34m\u001b[0m\u001b[0;34m\u001b[0m\u001b[0m\n",
            "\u001b[0;32m/usr/lib/python3.11/shutil.py\u001b[0m in \u001b[0;36mcopy2\u001b[0;34m(src, dst, follow_symlinks)\u001b[0m\n\u001b[1;32m    446\u001b[0m     \u001b[0;32mif\u001b[0m \u001b[0mos\u001b[0m\u001b[0;34m.\u001b[0m\u001b[0mpath\u001b[0m\u001b[0;34m.\u001b[0m\u001b[0misdir\u001b[0m\u001b[0;34m(\u001b[0m\u001b[0mdst\u001b[0m\u001b[0;34m)\u001b[0m\u001b[0;34m:\u001b[0m\u001b[0;34m\u001b[0m\u001b[0;34m\u001b[0m\u001b[0m\n\u001b[1;32m    447\u001b[0m         \u001b[0mdst\u001b[0m \u001b[0;34m=\u001b[0m \u001b[0mos\u001b[0m\u001b[0;34m.\u001b[0m\u001b[0mpath\u001b[0m\u001b[0;34m.\u001b[0m\u001b[0mjoin\u001b[0m\u001b[0;34m(\u001b[0m\u001b[0mdst\u001b[0m\u001b[0;34m,\u001b[0m \u001b[0mos\u001b[0m\u001b[0;34m.\u001b[0m\u001b[0mpath\u001b[0m\u001b[0;34m.\u001b[0m\u001b[0mbasename\u001b[0m\u001b[0;34m(\u001b[0m\u001b[0msrc\u001b[0m\u001b[0;34m)\u001b[0m\u001b[0;34m)\u001b[0m\u001b[0;34m\u001b[0m\u001b[0;34m\u001b[0m\u001b[0m\n\u001b[0;32m--> 448\u001b[0;31m     \u001b[0mcopyfile\u001b[0m\u001b[0;34m(\u001b[0m\u001b[0msrc\u001b[0m\u001b[0;34m,\u001b[0m \u001b[0mdst\u001b[0m\u001b[0;34m,\u001b[0m \u001b[0mfollow_symlinks\u001b[0m\u001b[0;34m=\u001b[0m\u001b[0mfollow_symlinks\u001b[0m\u001b[0;34m)\u001b[0m\u001b[0;34m\u001b[0m\u001b[0;34m\u001b[0m\u001b[0m\n\u001b[0m\u001b[1;32m    449\u001b[0m     \u001b[0mcopystat\u001b[0m\u001b[0;34m(\u001b[0m\u001b[0msrc\u001b[0m\u001b[0;34m,\u001b[0m \u001b[0mdst\u001b[0m\u001b[0;34m,\u001b[0m \u001b[0mfollow_symlinks\u001b[0m\u001b[0;34m=\u001b[0m\u001b[0mfollow_symlinks\u001b[0m\u001b[0;34m)\u001b[0m\u001b[0;34m\u001b[0m\u001b[0;34m\u001b[0m\u001b[0m\n\u001b[1;32m    450\u001b[0m     \u001b[0;32mreturn\u001b[0m \u001b[0mdst\u001b[0m\u001b[0;34m\u001b[0m\u001b[0;34m\u001b[0m\u001b[0m\n",
            "\u001b[0;32m/usr/lib/python3.11/shutil.py\u001b[0m in \u001b[0;36mcopyfile\u001b[0;34m(src, dst, follow_symlinks)\u001b[0m\n\u001b[1;32m    256\u001b[0m         \u001b[0;32mwith\u001b[0m \u001b[0mopen\u001b[0m\u001b[0;34m(\u001b[0m\u001b[0msrc\u001b[0m\u001b[0;34m,\u001b[0m \u001b[0;34m'rb'\u001b[0m\u001b[0;34m)\u001b[0m \u001b[0;32mas\u001b[0m \u001b[0mfsrc\u001b[0m\u001b[0;34m:\u001b[0m\u001b[0;34m\u001b[0m\u001b[0;34m\u001b[0m\u001b[0m\n\u001b[1;32m    257\u001b[0m             \u001b[0;32mtry\u001b[0m\u001b[0;34m:\u001b[0m\u001b[0;34m\u001b[0m\u001b[0;34m\u001b[0m\u001b[0m\n\u001b[0;32m--> 258\u001b[0;31m                 \u001b[0;32mwith\u001b[0m \u001b[0mopen\u001b[0m\u001b[0;34m(\u001b[0m\u001b[0mdst\u001b[0m\u001b[0;34m,\u001b[0m \u001b[0;34m'wb'\u001b[0m\u001b[0;34m)\u001b[0m \u001b[0;32mas\u001b[0m \u001b[0mfdst\u001b[0m\u001b[0;34m:\u001b[0m\u001b[0;34m\u001b[0m\u001b[0;34m\u001b[0m\u001b[0m\n\u001b[0m\u001b[1;32m    259\u001b[0m                     \u001b[0;31m# macOS\u001b[0m\u001b[0;34m\u001b[0m\u001b[0;34m\u001b[0m\u001b[0m\n\u001b[1;32m    260\u001b[0m                     \u001b[0;32mif\u001b[0m \u001b[0m_HAS_FCOPYFILE\u001b[0m\u001b[0;34m:\u001b[0m\u001b[0;34m\u001b[0m\u001b[0;34m\u001b[0m\u001b[0m\n",
            "\u001b[0;31mFileNotFoundError\u001b[0m: [Errno 2] No such file or directory: '/content/YourRepository/spam_model.pkl'"
          ]
        }
      ]
    },
    {
      "cell_type": "code",
      "source": [
        "import os\n",
        "import shutil\n",
        "\n",
        "# Define paths\n",
        "repo_folder = \"/content/Email_Spam_Detection\"  # Your GitHub repo folder\n",
        "model_path = \"/content/spam_model.pkl\"\n",
        "vectorizer_path = \"/content/vectorizer.pkl\"\n",
        "notebook_path = \"/content/YourNotebook.ipynb\"  # Replace with your actual notebook filename\n",
        "\n",
        "# Create repo folder if it doesn't exist\n",
        "if not os.path.exists(repo_folder):\n",
        "    os.makedirs(repo_folder)\n",
        "\n",
        "# Move files to the repo folder (only if they exist)\n",
        "if os.path.exists(model_path):\n",
        "    shutil.move(model_path, f\"{repo_folder}/spam_model.pkl\")\n",
        "else:\n",
        "    print(\"⚠️ Model file not found!\")\n",
        "\n",
        "if os.path.exists(vectorizer_path):\n",
        "    shutil.move(vectorizer_path, f\"{repo_folder}/vectorizer.pkl\")\n",
        "else:\n",
        "    print(\"⚠️ Vectorizer file not found!\")\n",
        "\n",
        "if os.path.exists(notebook_path):\n",
        "    shutil.move(notebook_path, f\"{repo_folder}/YourNotebook.ipynb\")\n",
        "else:\n",
        "    print(\"⚠️ Notebook file not found!\")\n",
        "\n",
        "print(\"✅ Files moved to GitHub repo folder!\")\n"
      ],
      "metadata": {
        "colab": {
          "base_uri": "https://localhost:8080/"
        },
        "id": "qbyXfVWYfK7G",
        "outputId": "46e18608-a680-417d-c341-5d2a9fca5abe"
      },
      "execution_count": null,
      "outputs": [
        {
          "output_type": "stream",
          "name": "stdout",
          "text": [
            "⚠️ Notebook file not found!\n",
            "✅ Files moved to GitHub repo folder!\n"
          ]
        }
      ]
    },
    {
      "cell_type": "code",
      "source": [
        "!ls /content\n"
      ],
      "metadata": {
        "colab": {
          "base_uri": "https://localhost:8080/"
        },
        "id": "NT7AQbdpgBpI",
        "outputId": "5fb19f49-e177-45d7-d687-0ba5c857b757"
      },
      "execution_count": null,
      "outputs": [
        {
          "output_type": "stream",
          "name": "stdout",
          "text": [
            "Email_Spam_Detection  sample_data\n"
          ]
        }
      ]
    },
    {
      "cell_type": "code",
      "source": [
        "!ls /content/Email_Spam_Detection\n"
      ],
      "metadata": {
        "colab": {
          "base_uri": "https://localhost:8080/"
        },
        "id": "M4Xaw8HcgMl6",
        "outputId": "9a664494-ea3c-45cc-8d1c-d527af9ecc83"
      },
      "execution_count": null,
      "outputs": [
        {
          "output_type": "stream",
          "name": "stdout",
          "text": [
            "README.md  spam_model.pkl  vectorizer.pkl\n"
          ]
        }
      ]
    },
    {
      "cell_type": "code",
      "source": [
        "!ls /content/sample_data\n"
      ],
      "metadata": {
        "colab": {
          "base_uri": "https://localhost:8080/"
        },
        "id": "qFv_E5gcgh6-",
        "outputId": "9ea501ef-704c-4a9c-c156-dcd36648a000"
      },
      "execution_count": null,
      "outputs": [
        {
          "output_type": "stream",
          "name": "stdout",
          "text": [
            "anscombe.json\t\t     california_housing_train.csv  mnist_train_small.csv\n",
            "california_housing_test.csv  mnist_test.csv\t\t   README.md\n"
          ]
        }
      ]
    },
    {
      "cell_type": "code",
      "source": [
        "import shutil\n",
        "\n",
        "notebook_name = \"your_notebook_name.ipynb\"  # Change this if needed\n",
        "src_path = f\"/content/sample_data/{notebook_name}\"\n",
        "dst_path = f\"/content/Email_Spam_Detection/{notebook_name}\"\n",
        "\n",
        "shutil.move(src_path, dst_path)\n",
        "print(\"✅ Notebook file moved successfully!\")\n"
      ],
      "metadata": {
        "colab": {
          "base_uri": "https://localhost:8080/",
          "height": 426
        },
        "id": "LmgLZtPUgkro",
        "outputId": "60f9b5f7-e2d8-499d-ce0c-0d5eee08a23e"
      },
      "execution_count": null,
      "outputs": [
        {
          "output_type": "error",
          "ename": "FileNotFoundError",
          "evalue": "[Errno 2] No such file or directory: '/content/sample_data/your_notebook_name.ipynb'",
          "traceback": [
            "\u001b[0;31m---------------------------------------------------------------------------\u001b[0m",
            "\u001b[0;31mFileNotFoundError\u001b[0m                         Traceback (most recent call last)",
            "\u001b[0;32m/usr/lib/python3.11/shutil.py\u001b[0m in \u001b[0;36mmove\u001b[0;34m(src, dst, copy_function)\u001b[0m\n\u001b[1;32m    852\u001b[0m     \u001b[0;32mtry\u001b[0m\u001b[0;34m:\u001b[0m\u001b[0;34m\u001b[0m\u001b[0;34m\u001b[0m\u001b[0m\n\u001b[0;32m--> 853\u001b[0;31m         \u001b[0mos\u001b[0m\u001b[0;34m.\u001b[0m\u001b[0mrename\u001b[0m\u001b[0;34m(\u001b[0m\u001b[0msrc\u001b[0m\u001b[0;34m,\u001b[0m \u001b[0mreal_dst\u001b[0m\u001b[0;34m)\u001b[0m\u001b[0;34m\u001b[0m\u001b[0;34m\u001b[0m\u001b[0m\n\u001b[0m\u001b[1;32m    854\u001b[0m     \u001b[0;32mexcept\u001b[0m \u001b[0mOSError\u001b[0m\u001b[0;34m:\u001b[0m\u001b[0;34m\u001b[0m\u001b[0;34m\u001b[0m\u001b[0m\n",
            "\u001b[0;31mFileNotFoundError\u001b[0m: [Errno 2] No such file or directory: '/content/sample_data/your_notebook_name.ipynb' -> '/content/Email_Spam_Detection/your_notebook_name.ipynb'",
            "\nDuring handling of the above exception, another exception occurred:\n",
            "\u001b[0;31mFileNotFoundError\u001b[0m                         Traceback (most recent call last)",
            "\u001b[0;32m<ipython-input-40-1e65b8e896e6>\u001b[0m in \u001b[0;36m<cell line: 0>\u001b[0;34m()\u001b[0m\n\u001b[1;32m      5\u001b[0m \u001b[0mdst_path\u001b[0m \u001b[0;34m=\u001b[0m \u001b[0;34mf\"/content/Email_Spam_Detection/{notebook_name}\"\u001b[0m\u001b[0;34m\u001b[0m\u001b[0;34m\u001b[0m\u001b[0m\n\u001b[1;32m      6\u001b[0m \u001b[0;34m\u001b[0m\u001b[0m\n\u001b[0;32m----> 7\u001b[0;31m \u001b[0mshutil\u001b[0m\u001b[0;34m.\u001b[0m\u001b[0mmove\u001b[0m\u001b[0;34m(\u001b[0m\u001b[0msrc_path\u001b[0m\u001b[0;34m,\u001b[0m \u001b[0mdst_path\u001b[0m\u001b[0;34m)\u001b[0m\u001b[0;34m\u001b[0m\u001b[0;34m\u001b[0m\u001b[0m\n\u001b[0m\u001b[1;32m      8\u001b[0m \u001b[0mprint\u001b[0m\u001b[0;34m(\u001b[0m\u001b[0;34m\"✅ Notebook file moved successfully!\"\u001b[0m\u001b[0;34m)\u001b[0m\u001b[0;34m\u001b[0m\u001b[0;34m\u001b[0m\u001b[0m\n",
            "\u001b[0;32m/usr/lib/python3.11/shutil.py\u001b[0m in \u001b[0;36mmove\u001b[0;34m(src, dst, copy_function)\u001b[0m\n\u001b[1;32m    871\u001b[0m             \u001b[0mrmtree\u001b[0m\u001b[0;34m(\u001b[0m\u001b[0msrc\u001b[0m\u001b[0;34m)\u001b[0m\u001b[0;34m\u001b[0m\u001b[0;34m\u001b[0m\u001b[0m\n\u001b[1;32m    872\u001b[0m         \u001b[0;32melse\u001b[0m\u001b[0;34m:\u001b[0m\u001b[0;34m\u001b[0m\u001b[0;34m\u001b[0m\u001b[0m\n\u001b[0;32m--> 873\u001b[0;31m             \u001b[0mcopy_function\u001b[0m\u001b[0;34m(\u001b[0m\u001b[0msrc\u001b[0m\u001b[0;34m,\u001b[0m \u001b[0mreal_dst\u001b[0m\u001b[0;34m)\u001b[0m\u001b[0;34m\u001b[0m\u001b[0;34m\u001b[0m\u001b[0m\n\u001b[0m\u001b[1;32m    874\u001b[0m             \u001b[0mos\u001b[0m\u001b[0;34m.\u001b[0m\u001b[0munlink\u001b[0m\u001b[0;34m(\u001b[0m\u001b[0msrc\u001b[0m\u001b[0;34m)\u001b[0m\u001b[0;34m\u001b[0m\u001b[0;34m\u001b[0m\u001b[0m\n\u001b[1;32m    875\u001b[0m     \u001b[0;32mreturn\u001b[0m \u001b[0mreal_dst\u001b[0m\u001b[0;34m\u001b[0m\u001b[0;34m\u001b[0m\u001b[0m\n",
            "\u001b[0;32m/usr/lib/python3.11/shutil.py\u001b[0m in \u001b[0;36mcopy2\u001b[0;34m(src, dst, follow_symlinks)\u001b[0m\n\u001b[1;32m    446\u001b[0m     \u001b[0;32mif\u001b[0m \u001b[0mos\u001b[0m\u001b[0;34m.\u001b[0m\u001b[0mpath\u001b[0m\u001b[0;34m.\u001b[0m\u001b[0misdir\u001b[0m\u001b[0;34m(\u001b[0m\u001b[0mdst\u001b[0m\u001b[0;34m)\u001b[0m\u001b[0;34m:\u001b[0m\u001b[0;34m\u001b[0m\u001b[0;34m\u001b[0m\u001b[0m\n\u001b[1;32m    447\u001b[0m         \u001b[0mdst\u001b[0m \u001b[0;34m=\u001b[0m \u001b[0mos\u001b[0m\u001b[0;34m.\u001b[0m\u001b[0mpath\u001b[0m\u001b[0;34m.\u001b[0m\u001b[0mjoin\u001b[0m\u001b[0;34m(\u001b[0m\u001b[0mdst\u001b[0m\u001b[0;34m,\u001b[0m \u001b[0mos\u001b[0m\u001b[0;34m.\u001b[0m\u001b[0mpath\u001b[0m\u001b[0;34m.\u001b[0m\u001b[0mbasename\u001b[0m\u001b[0;34m(\u001b[0m\u001b[0msrc\u001b[0m\u001b[0;34m)\u001b[0m\u001b[0;34m)\u001b[0m\u001b[0;34m\u001b[0m\u001b[0;34m\u001b[0m\u001b[0m\n\u001b[0;32m--> 448\u001b[0;31m     \u001b[0mcopyfile\u001b[0m\u001b[0;34m(\u001b[0m\u001b[0msrc\u001b[0m\u001b[0;34m,\u001b[0m \u001b[0mdst\u001b[0m\u001b[0;34m,\u001b[0m \u001b[0mfollow_symlinks\u001b[0m\u001b[0;34m=\u001b[0m\u001b[0mfollow_symlinks\u001b[0m\u001b[0;34m)\u001b[0m\u001b[0;34m\u001b[0m\u001b[0;34m\u001b[0m\u001b[0m\n\u001b[0m\u001b[1;32m    449\u001b[0m     \u001b[0mcopystat\u001b[0m\u001b[0;34m(\u001b[0m\u001b[0msrc\u001b[0m\u001b[0;34m,\u001b[0m \u001b[0mdst\u001b[0m\u001b[0;34m,\u001b[0m \u001b[0mfollow_symlinks\u001b[0m\u001b[0;34m=\u001b[0m\u001b[0mfollow_symlinks\u001b[0m\u001b[0;34m)\u001b[0m\u001b[0;34m\u001b[0m\u001b[0;34m\u001b[0m\u001b[0m\n\u001b[1;32m    450\u001b[0m     \u001b[0;32mreturn\u001b[0m \u001b[0mdst\u001b[0m\u001b[0;34m\u001b[0m\u001b[0;34m\u001b[0m\u001b[0m\n",
            "\u001b[0;32m/usr/lib/python3.11/shutil.py\u001b[0m in \u001b[0;36mcopyfile\u001b[0;34m(src, dst, follow_symlinks)\u001b[0m\n\u001b[1;32m    254\u001b[0m         \u001b[0mos\u001b[0m\u001b[0;34m.\u001b[0m\u001b[0msymlink\u001b[0m\u001b[0;34m(\u001b[0m\u001b[0mos\u001b[0m\u001b[0;34m.\u001b[0m\u001b[0mreadlink\u001b[0m\u001b[0;34m(\u001b[0m\u001b[0msrc\u001b[0m\u001b[0;34m)\u001b[0m\u001b[0;34m,\u001b[0m \u001b[0mdst\u001b[0m\u001b[0;34m)\u001b[0m\u001b[0;34m\u001b[0m\u001b[0;34m\u001b[0m\u001b[0m\n\u001b[1;32m    255\u001b[0m     \u001b[0;32melse\u001b[0m\u001b[0;34m:\u001b[0m\u001b[0;34m\u001b[0m\u001b[0;34m\u001b[0m\u001b[0m\n\u001b[0;32m--> 256\u001b[0;31m         \u001b[0;32mwith\u001b[0m \u001b[0mopen\u001b[0m\u001b[0;34m(\u001b[0m\u001b[0msrc\u001b[0m\u001b[0;34m,\u001b[0m \u001b[0;34m'rb'\u001b[0m\u001b[0;34m)\u001b[0m \u001b[0;32mas\u001b[0m \u001b[0mfsrc\u001b[0m\u001b[0;34m:\u001b[0m\u001b[0;34m\u001b[0m\u001b[0;34m\u001b[0m\u001b[0m\n\u001b[0m\u001b[1;32m    257\u001b[0m             \u001b[0;32mtry\u001b[0m\u001b[0;34m:\u001b[0m\u001b[0;34m\u001b[0m\u001b[0;34m\u001b[0m\u001b[0m\n\u001b[1;32m    258\u001b[0m                 \u001b[0;32mwith\u001b[0m \u001b[0mopen\u001b[0m\u001b[0;34m(\u001b[0m\u001b[0mdst\u001b[0m\u001b[0;34m,\u001b[0m \u001b[0;34m'wb'\u001b[0m\u001b[0;34m)\u001b[0m \u001b[0;32mas\u001b[0m \u001b[0mfdst\u001b[0m\u001b[0;34m:\u001b[0m\u001b[0;34m\u001b[0m\u001b[0;34m\u001b[0m\u001b[0m\n",
            "\u001b[0;31mFileNotFoundError\u001b[0m: [Errno 2] No such file or directory: '/content/sample_data/your_notebook_name.ipynb'"
          ]
        }
      ]
    },
    {
      "cell_type": "code",
      "source": [
        "!find /content -name \"*.ipynb\"\n",
        "\n"
      ],
      "metadata": {
        "id": "-BiAMG-Cgmoo"
      },
      "execution_count": null,
      "outputs": []
    },
    {
      "cell_type": "code",
      "source": [
        "!find /content -name \"*.ipynb\"\n"
      ],
      "metadata": {
        "id": "4x44USGchHWT"
      },
      "execution_count": null,
      "outputs": []
    },
    {
      "cell_type": "code",
      "source": [
        "!find /content -name \"*.ipynb\"\n"
      ],
      "metadata": {
        "id": "aJXRIaGbhJo5"
      },
      "execution_count": null,
      "outputs": []
    },
    {
      "cell_type": "code",
      "source": [
        "!find /content -name \"*.ipynb\"\n"
      ],
      "metadata": {
        "id": "BjtGcVCuhLwG"
      },
      "execution_count": null,
      "outputs": []
    },
    {
      "cell_type": "code",
      "source": [
        "!find /content -name \"*.ipynb\"\n"
      ],
      "metadata": {
        "id": "G2_kGNJGhZYM"
      },
      "execution_count": null,
      "outputs": []
    },
    {
      "cell_type": "code",
      "source": [
        "!ls -la /content\n"
      ],
      "metadata": {
        "colab": {
          "base_uri": "https://localhost:8080/"
        },
        "id": "aGc8YmTuhtX0",
        "outputId": "6a401524-12aa-4df7-b6f3-552b64949bc6"
      },
      "execution_count": null,
      "outputs": [
        {
          "output_type": "stream",
          "name": "stdout",
          "text": [
            "total 16\n",
            "drwxr-xr-x 1 root root 4096 Mar 31 13:40 .\n",
            "drwxr-xr-x 1 root root 4096 Apr  2 12:42 ..\n",
            "drwxr-xr-x 4 root root 4096 Mar 31 13:40 .config\n",
            "drwxr-xr-x 1 root root 4096 Mar 31 13:41 sample_data\n"
          ]
        }
      ]
    },
    {
      "cell_type": "code",
      "source": [
        "!find / -name \"*.ipynb\" 2>/dev/null\n"
      ],
      "metadata": {
        "colab": {
          "base_uri": "https://localhost:8080/"
        },
        "id": "-U5mUoA7h2te",
        "outputId": "ff6a59c9-acc9-4d6e-9ebd-447d2e42689b"
      },
      "execution_count": null,
      "outputs": [
        {
          "output_type": "stream",
          "name": "stdout",
          "text": [
            "/root/.julia/packages/GR/WSEqS/examples/covid19.ipynb\n",
            "/root/.julia/packages/GR/WSEqS/examples/faster-time-to-first-plot.ipynb\n",
            "/root/.julia/packages/GR/WSEqS/examples/anim.ipynb\n",
            "/root/.julia/packages/GR/WSEqS/examples/clifford_attractor.ipynb\n",
            "/root/.julia/packages/GR/WSEqS/examples/line_plot.ipynb\n",
            "/root/.julia/packages/Interpolations/91PhN/doc/Plotting examples.ipynb\n",
            "/root/.julia/packages/Interpolations/91PhN/doc/Interpolations.jl.ipynb\n",
            "/usr/local/lib/python3.11/dist-packages/notebook/bundler/tests/resources/empty.ipynb\n",
            "/usr/local/lib/python3.11/dist-packages/panel/tests/ui/io/app.ipynb\n",
            "/usr/local/lib/python3.11/dist-packages/nbclassic/bundler/tests/resources/empty.ipynb\n",
            "/usr/local/lib/python3.11/dist-packages/wasabi/tests/test-data/wasabi-test-notebook.ipynb\n",
            "/usr/local/lib/python3.11/dist-packages/cuml/experimental/hyperparams/HPO_demo.ipynb\n",
            "/usr/local/lib/python3.11/dist-packages/flax/core/flax_functional_engine.ipynb\n",
            "/usr/local/lib/python3.11/dist-packages/holoviews/examples/user_guide/Notebook_Magics.ipynb\n",
            "/usr/local/lib/python3.11/dist-packages/holoviews/examples/user_guide/Colormaps.ipynb\n",
            "/usr/local/lib/python3.11/dist-packages/holoviews/examples/user_guide/05-Dimensioned_Containers.ipynb\n",
            "/usr/local/lib/python3.11/dist-packages/holoviews/examples/user_guide/Deploying_Bokeh_Apps.ipynb\n",
            "/usr/local/lib/python3.11/dist-packages/holoviews/examples/user_guide/Linked_Brushing.ipynb\n",
            "/usr/local/lib/python3.11/dist-packages/holoviews/examples/user_guide/13-Custom_Interactivity.ipynb\n",
            "/usr/local/lib/python3.11/dist-packages/holoviews/examples/user_guide/17-Dashboards.ipynb\n",
            "/usr/local/lib/python3.11/dist-packages/holoviews/examples/user_guide/Continuous_Coordinates.ipynb\n",
            "/usr/local/lib/python3.11/dist-packages/holoviews/examples/user_guide/03-Applying_Customizations.ipynb\n",
            "/usr/local/lib/python3.11/dist-packages/holoviews/examples/user_guide/Plotting_with_Matplotlib.ipynb\n",
            "/usr/local/lib/python3.11/dist-packages/holoviews/examples/user_guide/Geometry_Data.ipynb\n",
            "/usr/local/lib/python3.11/dist-packages/holoviews/examples/user_guide/12-Responding_to_Events.ipynb\n",
            "/usr/local/lib/python3.11/dist-packages/holoviews/examples/user_guide/Customizing_Plots.ipynb\n",
            "/usr/local/lib/python3.11/dist-packages/holoviews/examples/user_guide/02-Composing_Elements.ipynb\n",
            "/usr/local/lib/python3.11/dist-packages/holoviews/examples/user_guide/16-Streaming_Data.ipynb\n",
            "/usr/local/lib/python3.11/dist-packages/holoviews/examples/user_guide/08-Tabular_Datasets.ipynb\n",
            "/usr/local/lib/python3.11/dist-packages/holoviews/examples/user_guide/10-Indexing_and_Selecting_Data.ipynb\n",
            "/usr/local/lib/python3.11/dist-packages/holoviews/examples/user_guide/01-Annotating_Data.ipynb\n",
            "/usr/local/lib/python3.11/dist-packages/holoviews/examples/user_guide/Plotting_with_Bokeh.ipynb\n",
            "/usr/local/lib/python3.11/dist-packages/holoviews/examples/user_guide/06-Building_Composite_Objects.ipynb\n",
            "/usr/local/lib/python3.11/dist-packages/holoviews/examples/user_guide/14-Data_Pipelines.ipynb\n",
            "/usr/local/lib/python3.11/dist-packages/holoviews/examples/user_guide/09-Gridded_Datasets.ipynb\n",
            "/usr/local/lib/python3.11/dist-packages/holoviews/examples/user_guide/15-Large_Data.ipynb\n",
            "/usr/local/lib/python3.11/dist-packages/holoviews/examples/user_guide/07-Live_Data.ipynb\n",
            "/usr/local/lib/python3.11/dist-packages/holoviews/examples/user_guide/11-Transforming_Elements.ipynb\n",
            "/usr/local/lib/python3.11/dist-packages/holoviews/examples/user_guide/Network_Graphs.ipynb\n",
            "/usr/local/lib/python3.11/dist-packages/holoviews/examples/user_guide/Plots_and_Renderers.ipynb\n",
            "/usr/local/lib/python3.11/dist-packages/holoviews/examples/user_guide/04-Style_Mapping.ipynb\n",
            "/usr/local/lib/python3.11/dist-packages/holoviews/examples/user_guide/Linking_Plots.ipynb\n",
            "/usr/local/lib/python3.11/dist-packages/holoviews/examples/user_guide/Exporting_and_Archiving.ipynb\n",
            "/usr/local/lib/python3.11/dist-packages/holoviews/examples/user_guide/Annotators.ipynb\n",
            "/usr/local/lib/python3.11/dist-packages/holoviews/examples/reference/streams/bokeh/PolyDraw.ipynb\n",
            "/usr/local/lib/python3.11/dist-packages/holoviews/examples/reference/streams/bokeh/BoundsY.ipynb\n",
            "/usr/local/lib/python3.11/dist-packages/holoviews/examples/reference/streams/bokeh/FreehandDraw.ipynb\n",
            "/usr/local/lib/python3.11/dist-packages/holoviews/examples/reference/streams/bokeh/PointDraw.ipynb\n",
            "/usr/local/lib/python3.11/dist-packages/holoviews/examples/reference/streams/bokeh/Selection1D_points.ipynb\n",
            "/usr/local/lib/python3.11/dist-packages/holoviews/examples/reference/streams/bokeh/BoundsX.ipynb\n",
            "/usr/local/lib/python3.11/dist-packages/holoviews/examples/reference/streams/bokeh/PointerXY.ipynb\n",
            "/usr/local/lib/python3.11/dist-packages/holoviews/examples/reference/streams/bokeh/PolyEdit.ipynb\n",
            "/usr/local/lib/python3.11/dist-packages/holoviews/examples/reference/streams/bokeh/Selection1D.ipynb\n",
            "/usr/local/lib/python3.11/dist-packages/holoviews/examples/reference/streams/bokeh/CurveEdit.ipynb\n",
            "/usr/local/lib/python3.11/dist-packages/holoviews/examples/reference/streams/bokeh/Bounds.ipynb\n",
            "/usr/local/lib/python3.11/dist-packages/holoviews/examples/reference/streams/bokeh/PointerX.ipynb\n",
            "/usr/local/lib/python3.11/dist-packages/holoviews/examples/reference/streams/bokeh/BoxEdit.ipynb\n",
            "/usr/local/lib/python3.11/dist-packages/holoviews/examples/reference/streams/bokeh/Tap.ipynb\n",
            "/usr/local/lib/python3.11/dist-packages/holoviews/examples/reference/streams/bokeh/Selection1D_tap.ipynb\n",
            "/usr/local/lib/python3.11/dist-packages/holoviews/examples/reference/streams/bokeh/Selection1D_paired.ipynb\n",
            "/usr/local/lib/python3.11/dist-packages/holoviews/examples/reference/streams/bokeh/RangeXY.ipynb\n",
            "/usr/local/lib/python3.11/dist-packages/holoviews/examples/reference/streams/plotly/BoundsY.ipynb\n",
            "/usr/local/lib/python3.11/dist-packages/holoviews/examples/reference/streams/plotly/Selection1D_points.ipynb\n",
            "/usr/local/lib/python3.11/dist-packages/holoviews/examples/reference/streams/plotly/BoundsX.ipynb\n",
            "/usr/local/lib/python3.11/dist-packages/holoviews/examples/reference/streams/plotly/Bounds.ipynb\n",
            "/usr/local/lib/python3.11/dist-packages/holoviews/examples/reference/streams/plotly/Selection1D_paired.ipynb\n",
            "/usr/local/lib/python3.11/dist-packages/holoviews/examples/reference/streams/plotly/RangeXY.ipynb\n",
            "/usr/local/lib/python3.11/dist-packages/holoviews/examples/reference/containers/matplotlib/HoloMap.ipynb\n",
            "/usr/local/lib/python3.11/dist-packages/holoviews/examples/reference/containers/matplotlib/DynamicMap.ipynb\n",
            "/usr/local/lib/python3.11/dist-packages/holoviews/examples/reference/containers/matplotlib/NdLayout.ipynb\n",
            "/usr/local/lib/python3.11/dist-packages/holoviews/examples/reference/containers/matplotlib/NdOverlay.ipynb\n",
            "/usr/local/lib/python3.11/dist-packages/holoviews/examples/reference/containers/matplotlib/Overlay.ipynb\n",
            "/usr/local/lib/python3.11/dist-packages/holoviews/examples/reference/containers/matplotlib/GridSpace.ipynb\n",
            "/usr/local/lib/python3.11/dist-packages/holoviews/examples/reference/containers/matplotlib/Layout.ipynb\n",
            "/usr/local/lib/python3.11/dist-packages/holoviews/examples/reference/containers/bokeh/HoloMap.ipynb\n",
            "/usr/local/lib/python3.11/dist-packages/holoviews/examples/reference/containers/bokeh/DynamicMap.ipynb\n",
            "/usr/local/lib/python3.11/dist-packages/holoviews/examples/reference/containers/bokeh/NdLayout.ipynb\n",
            "/usr/local/lib/python3.11/dist-packages/holoviews/examples/reference/containers/bokeh/NdOverlay.ipynb\n",
            "/usr/local/lib/python3.11/dist-packages/holoviews/examples/reference/containers/bokeh/Overlay.ipynb\n",
            "/usr/local/lib/python3.11/dist-packages/holoviews/examples/reference/containers/bokeh/GridSpace.ipynb\n",
            "/usr/local/lib/python3.11/dist-packages/holoviews/examples/reference/containers/bokeh/Layout.ipynb\n",
            "/usr/local/lib/python3.11/dist-packages/holoviews/examples/reference/containers/plotly/HoloMap.ipynb\n",
            "/usr/local/lib/python3.11/dist-packages/holoviews/examples/reference/containers/plotly/DynamicMap.ipynb\n",
            "/usr/local/lib/python3.11/dist-packages/holoviews/examples/reference/containers/plotly/NdLayout.ipynb\n",
            "/usr/local/lib/python3.11/dist-packages/holoviews/examples/reference/containers/plotly/NdOverlay.ipynb\n",
            "/usr/local/lib/python3.11/dist-packages/holoviews/examples/reference/containers/plotly/Overlay.ipynb\n",
            "/usr/local/lib/python3.11/dist-packages/holoviews/examples/reference/containers/plotly/GridSpace.ipynb\n",
            "/usr/local/lib/python3.11/dist-packages/holoviews/examples/reference/containers/plotly/Layout.ipynb\n",
            "/usr/local/lib/python3.11/dist-packages/holoviews/examples/reference/features/bokeh/Scalebar.ipynb\n",
            "/usr/local/lib/python3.11/dist-packages/holoviews/examples/reference/elements/matplotlib/Path3D.ipynb\n",
            "/usr/local/lib/python3.11/dist-packages/holoviews/examples/reference/elements/matplotlib/Points.ipynb\n",
            "/usr/local/lib/python3.11/dist-packages/holoviews/examples/reference/elements/matplotlib/Rectangles.ipynb\n",
            "/usr/local/lib/python3.11/dist-packages/holoviews/examples/reference/elements/matplotlib/Histogram.ipynb\n",
            "/usr/local/lib/python3.11/dist-packages/holoviews/examples/reference/elements/matplotlib/Raster.ipynb\n",
            "/usr/local/lib/python3.11/dist-packages/holoviews/examples/reference/elements/matplotlib/ItemTable.ipynb\n",
            "/usr/local/lib/python3.11/dist-packages/holoviews/examples/reference/elements/matplotlib/VectorField.ipynb\n",
            "/usr/local/lib/python3.11/dist-packages/holoviews/examples/reference/elements/matplotlib/Bivariate.ipynb\n",
            "/usr/local/lib/python3.11/dist-packages/holoviews/examples/reference/elements/matplotlib/TriMesh.ipynb\n",
            "/usr/local/lib/python3.11/dist-packages/holoviews/examples/reference/elements/matplotlib/HexTiles.ipynb\n",
            "/usr/local/lib/python3.11/dist-packages/holoviews/examples/reference/elements/matplotlib/TriSurface.ipynb\n",
            "/usr/local/lib/python3.11/dist-packages/holoviews/examples/reference/elements/matplotlib/HSpans.ipynb\n",
            "/usr/local/lib/python3.11/dist-packages/holoviews/examples/reference/elements/matplotlib/Slope.ipynb\n",
            "/usr/local/lib/python3.11/dist-packages/holoviews/examples/reference/elements/matplotlib/HSpan.ipynb\n",
            "/usr/local/lib/python3.11/dist-packages/holoviews/examples/reference/elements/matplotlib/Spread.ipynb\n",
            "/usr/local/lib/python3.11/dist-packages/holoviews/examples/reference/elements/matplotlib/QuadMesh.ipynb\n",
            "/usr/local/lib/python3.11/dist-packages/holoviews/examples/reference/elements/matplotlib/Labels.ipynb\n",
            "/usr/local/lib/python3.11/dist-packages/holoviews/examples/reference/elements/matplotlib/BoxWhisker.ipynb\n",
            "/usr/local/lib/python3.11/dist-packages/holoviews/examples/reference/elements/matplotlib/Bars.ipynb\n",
            "/usr/local/lib/python3.11/dist-packages/holoviews/examples/reference/elements/matplotlib/HLine.ipynb\n",
            "/usr/local/lib/python3.11/dist-packages/holoviews/examples/reference/elements/matplotlib/Contours.ipynb\n",
            "/usr/local/lib/python3.11/dist-packages/holoviews/examples/reference/elements/matplotlib/HSV.ipynb\n",
            "/usr/local/lib/python3.11/dist-packages/holoviews/examples/reference/elements/matplotlib/Spikes.ipynb\n",
            "/usr/local/lib/python3.11/dist-packages/holoviews/examples/reference/elements/matplotlib/ErrorBars.ipynb\n",
            "/usr/local/lib/python3.11/dist-packages/holoviews/examples/reference/elements/matplotlib/VLines.ipynb\n",
            "/usr/local/lib/python3.11/dist-packages/holoviews/examples/reference/elements/matplotlib/VLine.ipynb\n",
            "/usr/local/lib/python3.11/dist-packages/holoviews/examples/reference/elements/matplotlib/VSpan.ipynb\n",
            "/usr/local/lib/python3.11/dist-packages/holoviews/examples/reference/elements/matplotlib/Chord.ipynb\n",
            "/usr/local/lib/python3.11/dist-packages/holoviews/examples/reference/elements/matplotlib/RGB.ipynb\n",
            "/usr/local/lib/python3.11/dist-packages/holoviews/examples/reference/elements/matplotlib/Polygons.ipynb\n",
            "/usr/local/lib/python3.11/dist-packages/holoviews/examples/reference/elements/matplotlib/Image.ipynb\n",
            "/usr/local/lib/python3.11/dist-packages/holoviews/examples/reference/elements/matplotlib/Path.ipynb\n",
            "/usr/local/lib/python3.11/dist-packages/holoviews/examples/reference/elements/matplotlib/Surface.ipynb\n",
            "/usr/local/lib/python3.11/dist-packages/holoviews/examples/reference/elements/matplotlib/Area.ipynb\n",
            "/usr/local/lib/python3.11/dist-packages/holoviews/examples/reference/elements/matplotlib/Bounds.ipynb\n",
            "/usr/local/lib/python3.11/dist-packages/holoviews/examples/reference/elements/matplotlib/Ellipse.ipynb\n",
            "/usr/local/lib/python3.11/dist-packages/holoviews/examples/reference/elements/matplotlib/Spline.ipynb\n",
            "/usr/local/lib/python3.11/dist-packages/holoviews/examples/reference/elements/matplotlib/Scatter3D.ipynb\n",
            "/usr/local/lib/python3.11/dist-packages/holoviews/examples/reference/elements/matplotlib/Table.ipynb\n",
            "/usr/local/lib/python3.11/dist-packages/holoviews/examples/reference/elements/matplotlib/Distribution.ipynb\n",
            "/usr/local/lib/python3.11/dist-packages/holoviews/examples/reference/elements/matplotlib/Arrow.ipynb\n",
            "/usr/local/lib/python3.11/dist-packages/holoviews/examples/reference/elements/matplotlib/Sankey.ipynb\n",
            "/usr/local/lib/python3.11/dist-packages/holoviews/examples/reference/elements/matplotlib/Box.ipynb\n",
            "/usr/local/lib/python3.11/dist-packages/holoviews/examples/reference/elements/matplotlib/ImageStack.ipynb\n",
            "/usr/local/lib/python3.11/dist-packages/holoviews/examples/reference/elements/matplotlib/HLines.ipynb\n",
            "/usr/local/lib/python3.11/dist-packages/holoviews/examples/reference/elements/matplotlib/VSpans.ipynb\n",
            "/usr/local/lib/python3.11/dist-packages/holoviews/examples/reference/elements/matplotlib/Curve.ipynb\n",
            "/usr/local/lib/python3.11/dist-packages/holoviews/examples/reference/elements/matplotlib/RadialHeatMap.ipynb\n",
            "/usr/local/lib/python3.11/dist-packages/holoviews/examples/reference/elements/matplotlib/Text.ipynb\n",
            "/usr/local/lib/python3.11/dist-packages/holoviews/examples/reference/elements/matplotlib/Violin.ipynb\n",
            "/usr/local/lib/python3.11/dist-packages/holoviews/examples/reference/elements/matplotlib/Scatter.ipynb\n",
            "/usr/local/lib/python3.11/dist-packages/holoviews/examples/reference/elements/matplotlib/Graph.ipynb\n",
            "/usr/local/lib/python3.11/dist-packages/holoviews/examples/reference/elements/matplotlib/Segments.ipynb\n",
            "/usr/local/lib/python3.11/dist-packages/holoviews/examples/reference/elements/matplotlib/HeatMap.ipynb\n",
            "/usr/local/lib/python3.11/dist-packages/holoviews/examples/reference/elements/bokeh/Points.ipynb\n",
            "/usr/local/lib/python3.11/dist-packages/holoviews/examples/reference/elements/bokeh/Rectangles.ipynb\n",
            "/usr/local/lib/python3.11/dist-packages/holoviews/examples/reference/elements/bokeh/Histogram.ipynb\n",
            "/usr/local/lib/python3.11/dist-packages/holoviews/examples/reference/elements/bokeh/Raster.ipynb\n",
            "/usr/local/lib/python3.11/dist-packages/holoviews/examples/reference/elements/bokeh/ItemTable.ipynb\n",
            "/usr/local/lib/python3.11/dist-packages/holoviews/examples/reference/elements/bokeh/VectorField.ipynb\n",
            "/usr/local/lib/python3.11/dist-packages/holoviews/examples/reference/elements/bokeh/Bivariate.ipynb\n",
            "/usr/local/lib/python3.11/dist-packages/holoviews/examples/reference/elements/bokeh/TriMesh.ipynb\n",
            "/usr/local/lib/python3.11/dist-packages/holoviews/examples/reference/elements/bokeh/HexTiles.ipynb\n",
            "/usr/local/lib/python3.11/dist-packages/holoviews/examples/reference/elements/bokeh/HSpans.ipynb\n",
            "/usr/local/lib/python3.11/dist-packages/holoviews/examples/reference/elements/bokeh/Slope.ipynb\n",
            "/usr/local/lib/python3.11/dist-packages/holoviews/examples/reference/elements/bokeh/Div.ipynb\n",
            "/usr/local/lib/python3.11/dist-packages/holoviews/examples/reference/elements/bokeh/HSpan.ipynb\n",
            "/usr/local/lib/python3.11/dist-packages/holoviews/examples/reference/elements/bokeh/Spread.ipynb\n",
            "/usr/local/lib/python3.11/dist-packages/holoviews/examples/reference/elements/bokeh/Tiles.ipynb\n",
            "/usr/local/lib/python3.11/dist-packages/holoviews/examples/reference/elements/bokeh/QuadMesh.ipynb\n",
            "/usr/local/lib/python3.11/dist-packages/holoviews/examples/reference/elements/bokeh/Labels.ipynb\n",
            "/usr/local/lib/python3.11/dist-packages/holoviews/examples/reference/elements/bokeh/BoxWhisker.ipynb\n",
            "/usr/local/lib/python3.11/dist-packages/holoviews/examples/reference/elements/bokeh/Bars.ipynb\n",
            "/usr/local/lib/python3.11/dist-packages/holoviews/examples/reference/elements/bokeh/HLine.ipynb\n",
            "/usr/local/lib/python3.11/dist-packages/holoviews/examples/reference/elements/bokeh/Contours.ipynb\n",
            "/usr/local/lib/python3.11/dist-packages/holoviews/examples/reference/elements/bokeh/HSV.ipynb\n",
            "/usr/local/lib/python3.11/dist-packages/holoviews/examples/reference/elements/bokeh/Spikes.ipynb\n",
            "/usr/local/lib/python3.11/dist-packages/holoviews/examples/reference/elements/bokeh/ErrorBars.ipynb\n",
            "/usr/local/lib/python3.11/dist-packages/holoviews/examples/reference/elements/bokeh/VLines.ipynb\n",
            "/usr/local/lib/python3.11/dist-packages/holoviews/examples/reference/elements/bokeh/VLine.ipynb\n",
            "/usr/local/lib/python3.11/dist-packages/holoviews/examples/reference/elements/bokeh/VSpan.ipynb\n",
            "/usr/local/lib/python3.11/dist-packages/holoviews/examples/reference/elements/bokeh/Chord.ipynb\n",
            "/usr/local/lib/python3.11/dist-packages/holoviews/examples/reference/elements/bokeh/RGB.ipynb\n",
            "/usr/local/lib/python3.11/dist-packages/holoviews/examples/reference/elements/bokeh/Polygons.ipynb\n",
            "/usr/local/lib/python3.11/dist-packages/holoviews/examples/reference/elements/bokeh/Image.ipynb\n",
            "/usr/local/lib/python3.11/dist-packages/holoviews/examples/reference/elements/bokeh/Path.ipynb\n",
            "/usr/local/lib/python3.11/dist-packages/holoviews/examples/reference/elements/bokeh/Area.ipynb\n",
            "/usr/local/lib/python3.11/dist-packages/holoviews/examples/reference/elements/bokeh/Bounds.ipynb\n",
            "/usr/local/lib/python3.11/dist-packages/holoviews/examples/reference/elements/bokeh/Ellipse.ipynb\n",
            "/usr/local/lib/python3.11/dist-packages/holoviews/examples/reference/elements/bokeh/Spline.ipynb\n",
            "/usr/local/lib/python3.11/dist-packages/holoviews/examples/reference/elements/bokeh/Table.ipynb\n",
            "/usr/local/lib/python3.11/dist-packages/holoviews/examples/reference/elements/bokeh/Distribution.ipynb\n",
            "/usr/local/lib/python3.11/dist-packages/holoviews/examples/reference/elements/bokeh/Arrow.ipynb\n",
            "/usr/local/lib/python3.11/dist-packages/holoviews/examples/reference/elements/bokeh/Sankey.ipynb\n",
            "/usr/local/lib/python3.11/dist-packages/holoviews/examples/reference/elements/bokeh/Box.ipynb\n",
            "/usr/local/lib/python3.11/dist-packages/holoviews/examples/reference/elements/bokeh/ImageStack.ipynb\n",
            "/usr/local/lib/python3.11/dist-packages/holoviews/examples/reference/elements/bokeh/HLines.ipynb\n",
            "/usr/local/lib/python3.11/dist-packages/holoviews/examples/reference/elements/bokeh/VSpans.ipynb\n",
            "/usr/local/lib/python3.11/dist-packages/holoviews/examples/reference/elements/bokeh/Curve.ipynb\n",
            "/usr/local/lib/python3.11/dist-packages/holoviews/examples/reference/elements/bokeh/RadialHeatMap.ipynb\n",
            "/usr/local/lib/python3.11/dist-packages/holoviews/examples/reference/elements/bokeh/Text.ipynb\n",
            "/usr/local/lib/python3.11/dist-packages/holoviews/examples/reference/elements/bokeh/Violin.ipynb\n",
            "/usr/local/lib/python3.11/dist-packages/holoviews/examples/reference/elements/bokeh/Scatter.ipynb\n",
            "/usr/local/lib/python3.11/dist-packages/holoviews/examples/reference/elements/bokeh/Graph.ipynb\n",
            "/usr/local/lib/python3.11/dist-packages/holoviews/examples/reference/elements/bokeh/Segments.ipynb\n",
            "/usr/local/lib/python3.11/dist-packages/holoviews/examples/reference/elements/bokeh/HeatMap.ipynb\n",
            "/usr/local/lib/python3.11/dist-packages/holoviews/examples/reference/elements/plotly/Path3D.ipynb\n",
            "/usr/local/lib/python3.11/dist-packages/holoviews/examples/reference/elements/plotly/Points.ipynb\n",
            "/usr/local/lib/python3.11/dist-packages/holoviews/examples/reference/elements/plotly/Histogram.ipynb\n",
            "/usr/local/lib/python3.11/dist-packages/holoviews/examples/reference/elements/plotly/Raster.ipynb\n",
            "/usr/local/lib/python3.11/dist-packages/holoviews/examples/reference/elements/plotly/ItemTable.ipynb\n",
            "/usr/local/lib/python3.11/dist-packages/holoviews/examples/reference/elements/plotly/TriSurface.ipynb\n",
            "/usr/local/lib/python3.11/dist-packages/holoviews/examples/reference/elements/plotly/HSpan.ipynb\n",
            "/usr/local/lib/python3.11/dist-packages/holoviews/examples/reference/elements/plotly/Spread.ipynb\n",
            "/usr/local/lib/python3.11/dist-packages/holoviews/examples/reference/elements/plotly/Tiles.ipynb\n",
            "/usr/local/lib/python3.11/dist-packages/holoviews/examples/reference/elements/plotly/BoxWhisker.ipynb\n",
            "/usr/local/lib/python3.11/dist-packages/holoviews/examples/reference/elements/plotly/Bars.ipynb\n",
            "/usr/local/lib/python3.11/dist-packages/holoviews/examples/reference/elements/plotly/HLine.ipynb\n",
            "/usr/local/lib/python3.11/dist-packages/holoviews/examples/reference/elements/plotly/ErrorBars.ipynb\n",
            "/usr/local/lib/python3.11/dist-packages/holoviews/examples/reference/elements/plotly/VLine.ipynb\n",
            "/usr/local/lib/python3.11/dist-packages/holoviews/examples/reference/elements/plotly/VSpan.ipynb\n",
            "/usr/local/lib/python3.11/dist-packages/holoviews/examples/reference/elements/plotly/RGB.ipynb\n",
            "/usr/local/lib/python3.11/dist-packages/holoviews/examples/reference/elements/plotly/Image.ipynb\n",
            "/usr/local/lib/python3.11/dist-packages/holoviews/examples/reference/elements/plotly/Surface.ipynb\n",
            "/usr/local/lib/python3.11/dist-packages/holoviews/examples/reference/elements/plotly/Area.ipynb\n",
            "/usr/local/lib/python3.11/dist-packages/holoviews/examples/reference/elements/plotly/Bounds.ipynb\n",
            "/usr/local/lib/python3.11/dist-packages/holoviews/examples/reference/elements/plotly/Ellipse.ipynb\n",
            "/usr/local/lib/python3.11/dist-packages/holoviews/examples/reference/elements/plotly/Scatter3D.ipynb\n",
            "/usr/local/lib/python3.11/dist-packages/holoviews/examples/reference/elements/plotly/Table.ipynb\n",
            "/usr/local/lib/python3.11/dist-packages/holoviews/examples/reference/elements/plotly/Distribution.ipynb\n",
            "/usr/local/lib/python3.11/dist-packages/holoviews/examples/reference/elements/plotly/Box.ipynb\n",
            "/usr/local/lib/python3.11/dist-packages/holoviews/examples/reference/elements/plotly/ImageStack.ipynb\n",
            "/usr/local/lib/python3.11/dist-packages/holoviews/examples/reference/elements/plotly/Curve.ipynb\n",
            "/usr/local/lib/python3.11/dist-packages/holoviews/examples/reference/elements/plotly/Violin.ipynb\n",
            "/usr/local/lib/python3.11/dist-packages/holoviews/examples/reference/elements/plotly/Scatter.ipynb\n",
            "/usr/local/lib/python3.11/dist-packages/holoviews/examples/reference/elements/plotly/HeatMap.ipynb\n",
            "/usr/local/lib/python3.11/dist-packages/holoviews/examples/getting_started/2-Customization.ipynb\n",
            "/usr/local/lib/python3.11/dist-packages/holoviews/examples/getting_started/5-Live_Data.ipynb\n",
            "/usr/local/lib/python3.11/dist-packages/holoviews/examples/getting_started/1-Introduction.ipynb\n",
            "/usr/local/lib/python3.11/dist-packages/holoviews/examples/getting_started/3-Tabular_Datasets.ipynb\n",
            "/usr/local/lib/python3.11/dist-packages/holoviews/examples/getting_started/4-Gridded_Datasets.ipynb\n",
            "/usr/local/lib/python3.11/dist-packages/holoviews/examples/gallery/demos/matplotlib/mandelbrot_section.ipynb\n",
            "/usr/local/lib/python3.11/dist-packages/holoviews/examples/gallery/demos/matplotlib/directed_airline_routes.ipynb\n",
            "/usr/local/lib/python3.11/dist-packages/holoviews/examples/gallery/demos/matplotlib/bachelors_degrees_by_gender.ipynb\n",
            "/usr/local/lib/python3.11/dist-packages/holoviews/examples/gallery/demos/matplotlib/us_unemployment.ipynb\n",
            "/usr/local/lib/python3.11/dist-packages/holoviews/examples/gallery/demos/matplotlib/iris_grouped_grid.ipynb\n",
            "/usr/local/lib/python3.11/dist-packages/holoviews/examples/gallery/demos/matplotlib/step_chart.ipynb\n",
            "/usr/local/lib/python3.11/dist-packages/holoviews/examples/gallery/demos/matplotlib/irregular_quadmesh.ipynb\n",
            "/usr/local/lib/python3.11/dist-packages/holoviews/examples/gallery/demos/matplotlib/topographic_hillshading.ipynb\n",
            "/usr/local/lib/python3.11/dist-packages/holoviews/examples/gallery/demos/matplotlib/lorenz_attractor_example.ipynb\n",
            "/usr/local/lib/python3.11/dist-packages/holoviews/examples/gallery/demos/matplotlib/energy_sankey.ipynb\n",
            "/usr/local/lib/python3.11/dist-packages/holoviews/examples/gallery/demos/matplotlib/texas_choropleth_example.ipynb\n",
            "/usr/local/lib/python3.11/dist-packages/holoviews/examples/gallery/demos/matplotlib/legend_example.ipynb\n",
            "/usr/local/lib/python3.11/dist-packages/holoviews/examples/gallery/demos/matplotlib/surface_3d.ipynb\n",
            "/usr/local/lib/python3.11/dist-packages/holoviews/examples/gallery/demos/matplotlib/stocks_example.ipynb\n",
            "/usr/local/lib/python3.11/dist-packages/holoviews/examples/gallery/demos/matplotlib/dropdown_economic.ipynb\n",
            "/usr/local/lib/python3.11/dist-packages/holoviews/examples/gallery/demos/matplotlib/bars_economic.ipynb\n",
            "/usr/local/lib/python3.11/dist-packages/holoviews/examples/gallery/demos/matplotlib/histogram_example.ipynb\n",
            "/usr/local/lib/python3.11/dist-packages/holoviews/examples/gallery/demos/matplotlib/iris_density_grid.ipynb\n",
            "/usr/local/lib/python3.11/dist-packages/holoviews/examples/gallery/demos/matplotlib/network_graph.ipynb\n",
            "/usr/local/lib/python3.11/dist-packages/holoviews/examples/gallery/demos/matplotlib/quiver_demo.ipynb\n",
            "/usr/local/lib/python3.11/dist-packages/holoviews/examples/gallery/demos/matplotlib/measles_example.ipynb\n",
            "/usr/local/lib/python3.11/dist-packages/holoviews/examples/gallery/demos/matplotlib/area_chart.ipynb\n",
            "/usr/local/lib/python3.11/dist-packages/holoviews/examples/gallery/demos/matplotlib/iris_example.ipynb\n",
            "/usr/local/lib/python3.11/dist-packages/holoviews/examples/gallery/demos/matplotlib/autompg_histogram.ipynb\n",
            "/usr/local/lib/python3.11/dist-packages/holoviews/examples/gallery/demos/matplotlib/route_chord.ipynb\n",
            "/usr/local/lib/python3.11/dist-packages/holoviews/examples/gallery/demos/matplotlib/scatter_economic.ipynb\n",
            "/usr/local/lib/python3.11/dist-packages/holoviews/examples/gallery/demos/matplotlib/nyc_airport_connections.ipynb\n",
            "/usr/local/lib/python3.11/dist-packages/holoviews/examples/gallery/demos/matplotlib/boxplot_chart.ipynb\n",
            "/usr/local/lib/python3.11/dist-packages/holoviews/examples/gallery/demos/matplotlib/nyc_radial_heatmap.ipynb\n",
            "/usr/local/lib/python3.11/dist-packages/holoviews/examples/gallery/demos/matplotlib/autompg_violins.ipynb\n",
            "/usr/local/lib/python3.11/dist-packages/holoviews/examples/gallery/demos/matplotlib/dragon_curve.ipynb\n",
            "/usr/local/lib/python3.11/dist-packages/holoviews/examples/gallery/demos/matplotlib/trisurf3d_demo.ipynb\n",
            "/usr/local/lib/python3.11/dist-packages/holoviews/examples/gallery/demos/matplotlib/verhulst_mandelbrot.ipynb\n",
            "/usr/local/lib/python3.11/dist-packages/holoviews/examples/gallery/demos/matplotlib/polar_scatter_demo.ipynb\n",
            "/usr/local/lib/python3.11/dist-packages/holoviews/examples/gallery/demos/matplotlib/square_limit.ipynb\n",
            "/usr/local/lib/python3.11/dist-packages/holoviews/examples/gallery/demos/matplotlib/iris_splom_example.ipynb\n",
            "/usr/local/lib/python3.11/dist-packages/holoviews/examples/gallery/demos/matplotlib/hextile_movie_ratings.ipynb\n",
            "/usr/local/lib/python3.11/dist-packages/holoviews/examples/gallery/demos/bokeh/timeseries_range_tool.ipynb\n",
            "/usr/local/lib/python3.11/dist-packages/holoviews/examples/gallery/demos/bokeh/mandelbrot_section.ipynb\n",
            "/usr/local/lib/python3.11/dist-packages/holoviews/examples/gallery/demos/bokeh/directed_airline_routes.ipynb\n",
            "/usr/local/lib/python3.11/dist-packages/holoviews/examples/gallery/demos/bokeh/bachelors_degrees_by_gender.ipynb\n",
            "/usr/local/lib/python3.11/dist-packages/holoviews/examples/gallery/demos/bokeh/image_range_tool.ipynb\n",
            "/usr/local/lib/python3.11/dist-packages/holoviews/examples/gallery/demos/bokeh/us_unemployment.ipynb\n",
            "/usr/local/lib/python3.11/dist-packages/holoviews/examples/gallery/demos/bokeh/iris_grouped_grid.ipynb\n",
            "/usr/local/lib/python3.11/dist-packages/holoviews/examples/gallery/demos/bokeh/step_chart.ipynb\n",
            "/usr/local/lib/python3.11/dist-packages/holoviews/examples/gallery/demos/bokeh/irregular_quadmesh.ipynb\n",
            "/usr/local/lib/python3.11/dist-packages/holoviews/examples/gallery/demos/bokeh/life_expectancy_split_violin.ipynb\n",
            "/usr/local/lib/python3.11/dist-packages/holoviews/examples/gallery/demos/bokeh/topographic_hillshading.ipynb\n",
            "/usr/local/lib/python3.11/dist-packages/holoviews/examples/gallery/demos/bokeh/lorenz_attractor_example.ipynb\n",
            "/usr/local/lib/python3.11/dist-packages/holoviews/examples/gallery/demos/bokeh/point_draw_triangulate.ipynb\n",
            "/usr/local/lib/python3.11/dist-packages/holoviews/examples/gallery/demos/bokeh/energy_sankey.ipynb\n",
            "/usr/local/lib/python3.11/dist-packages/holoviews/examples/gallery/demos/bokeh/texas_choropleth_example.ipynb\n",
            "/usr/local/lib/python3.11/dist-packages/holoviews/examples/gallery/demos/bokeh/legend_example.ipynb\n",
            "/usr/local/lib/python3.11/dist-packages/holoviews/examples/gallery/demos/bokeh/stocks_example.ipynb\n",
            "/usr/local/lib/python3.11/dist-packages/holoviews/examples/gallery/demos/bokeh/dropdown_economic.ipynb\n",
            "/usr/local/lib/python3.11/dist-packages/holoviews/examples/gallery/demos/bokeh/bars_economic.ipynb\n",
            "/usr/local/lib/python3.11/dist-packages/holoviews/examples/gallery/demos/bokeh/histogram_example.ipynb\n",
            "/usr/local/lib/python3.11/dist-packages/holoviews/examples/gallery/demos/bokeh/iris_density_grid.ipynb\n",
            "/usr/local/lib/python3.11/dist-packages/holoviews/examples/gallery/demos/bokeh/network_graph.ipynb\n",
            "/usr/local/lib/python3.11/dist-packages/holoviews/examples/gallery/demos/bokeh/html_hover_tooltips.ipynb\n",
            "/usr/local/lib/python3.11/dist-packages/holoviews/examples/gallery/demos/bokeh/quiver_demo.ipynb\n",
            "/usr/local/lib/python3.11/dist-packages/holoviews/examples/gallery/demos/bokeh/measles_example.ipynb\n",
            "/usr/local/lib/python3.11/dist-packages/holoviews/examples/gallery/demos/bokeh/area_chart.ipynb\n",
            "/usr/local/lib/python3.11/dist-packages/holoviews/examples/gallery/demos/bokeh/iris_example.ipynb\n",
            "/usr/local/lib/python3.11/dist-packages/holoviews/examples/gallery/demos/bokeh/autompg_histogram.ipynb\n",
            "/usr/local/lib/python3.11/dist-packages/holoviews/examples/gallery/demos/bokeh/route_chord.ipynb\n",
            "/usr/local/lib/python3.11/dist-packages/holoviews/examples/gallery/demos/bokeh/scatter_economic.ipynb\n",
            "/usr/local/lib/python3.11/dist-packages/holoviews/examples/gallery/demos/bokeh/nyc_airport_connections.ipynb\n",
            "/usr/local/lib/python3.11/dist-packages/holoviews/examples/gallery/demos/bokeh/emoji_tsne.ipynb\n",
            "/usr/local/lib/python3.11/dist-packages/holoviews/examples/gallery/demos/bokeh/boxplot_chart.ipynb\n",
            "/usr/local/lib/python3.11/dist-packages/holoviews/examples/gallery/demos/bokeh/nyc_radial_heatmap.ipynb\n",
            "/usr/local/lib/python3.11/dist-packages/holoviews/examples/gallery/demos/bokeh/autompg_violins.ipynb\n",
            "/usr/local/lib/python3.11/dist-packages/holoviews/examples/gallery/demos/bokeh/multichannel_timeseries_viewer.ipynb\n",
            "/usr/local/lib/python3.11/dist-packages/holoviews/examples/gallery/demos/bokeh/dragon_curve.ipynb\n",
            "/usr/local/lib/python3.11/dist-packages/holoviews/examples/gallery/demos/bokeh/verhulst_mandelbrot.ipynb\n",
            "/usr/local/lib/python3.11/dist-packages/holoviews/examples/gallery/demos/bokeh/square_limit.ipynb\n",
            "/usr/local/lib/python3.11/dist-packages/holoviews/examples/gallery/demos/bokeh/box_draw_roi_editor.ipynb\n",
            "/usr/local/lib/python3.11/dist-packages/holoviews/examples/gallery/demos/bokeh/iris_splom_example.ipynb\n",
            "/usr/local/lib/python3.11/dist-packages/holoviews/examples/gallery/demos/bokeh/lesmis_example.ipynb\n",
            "/usr/local/lib/python3.11/dist-packages/holoviews/examples/gallery/demos/bokeh/choropleth_data_link.ipynb\n",
            "/usr/local/lib/python3.11/dist-packages/holoviews/examples/gallery/demos/bokeh/dot_example.ipynb\n",
            "/usr/local/lib/python3.11/dist-packages/holoviews/examples/gallery/demos/bokeh/hextile_movie_ratings.ipynb\n",
            "/usr/local/lib/python3.11/dist-packages/holoviews/examples/gallery/demos/plotly/surface_3d.ipynb\n",
            "/usr/local/lib/python3.11/dist-packages/holoviews/examples/gallery/demos/plotly/trisurf3d_demo.ipynb\n",
            "/usr/local/lib/python3.11/dist-packages/holoviews/tests/ipython/notebooks/test_opts_image_cell_magic.ipynb\n",
            "/usr/local/lib/python3.11/dist-packages/holoviews/tests/ipython/notebooks/test_opts_image_cell_magic_offset.ipynb\n",
            "/usr/local/lib/python3.11/dist-packages/holoviews/tests/ipython/notebooks/test_opts_image_line_magic.ipynb\n",
            "/usr/local/lib/python3.11/dist-packages/holoviews/tests/ipython/notebooks/test_output_svg_line_magic.ipynb\n",
            "/opt/nvidia/nsight-compute/2024.2.1/host/target-linux-x64/python/packages/nsys_recipe/recipes/nvtx_gpu_proj_sum/stats.ipynb\n",
            "/opt/nvidia/nsight-compute/2024.2.1/host/target-linux-x64/python/packages/nsys_recipe/recipes/nvtx_gpu_proj_sum/topN.ipynb\n",
            "/opt/nvidia/nsight-compute/2024.2.1/host/target-linux-x64/python/packages/nsys_recipe/recipes/cuda_gpu_mem_time_sum/stats.ipynb\n",
            "/opt/nvidia/nsight-compute/2024.2.1/host/target-linux-x64/python/packages/nsys_recipe/recipes/nvtx_gpu_proj_pace/pace.ipynb\n",
            "/opt/nvidia/nsight-compute/2024.2.1/host/target-linux-x64/python/packages/nsys_recipe/recipes/nvtx_sum/stats.ipynb\n",
            "/opt/nvidia/nsight-compute/2024.2.1/host/target-linux-x64/python/packages/nsys_recipe/recipes/diff/diff.ipynb\n",
            "/opt/nvidia/nsight-compute/2024.2.1/host/target-linux-x64/python/packages/nsys_recipe/recipes/nccl_gpu_time_util_map/heatmap.ipynb\n",
            "/opt/nvidia/nsight-compute/2024.2.1/host/target-linux-x64/python/packages/nsys_recipe/recipes/mpi_sum/stats.ipynb\n",
            "/opt/nvidia/nsight-compute/2024.2.1/host/target-linux-x64/python/packages/nsys_recipe/recipes/cuda_memcpy_sync/analysis.ipynb\n",
            "/opt/nvidia/nsight-compute/2024.2.1/host/target-linux-x64/python/packages/nsys_recipe/recipes/cuda_api_sync/analysis.ipynb\n",
            "/opt/nvidia/nsight-compute/2024.2.1/host/target-linux-x64/python/packages/nsys_recipe/recipes/ucx_gpu_time_util_map/heatmap.ipynb\n",
            "/opt/nvidia/nsight-compute/2024.2.1/host/target-linux-x64/python/packages/nsys_recipe/recipes/nvtx_gpu_proj_trace/trace.ipynb\n",
            "/opt/nvidia/nsight-compute/2024.2.1/host/target-linux-x64/python/packages/nsys_recipe/recipes/mpi_gpu_time_util_map/heatmap.ipynb\n",
            "/opt/nvidia/nsight-compute/2024.2.1/host/target-linux-x64/python/packages/nsys_recipe/recipes/cuda_gpu_time_util_map/heatmap.ipynb\n",
            "/opt/nvidia/nsight-compute/2024.2.1/host/target-linux-x64/python/packages/nsys_recipe/recipes/network_traffic_map/heatmap.ipynb\n",
            "/opt/nvidia/nsight-compute/2024.2.1/host/target-linux-x64/python/packages/nsys_recipe/recipes/nccl_sum/stats.ipynb\n",
            "/opt/nvidia/nsight-compute/2024.2.1/host/target-linux-x64/python/packages/nsys_recipe/recipes/nvtx_pace/pace.ipynb\n",
            "/opt/nvidia/nsight-compute/2024.2.1/host/target-linux-x64/python/packages/nsys_recipe/recipes/cuda_gpu_kern_sum/stats.ipynb\n",
            "/opt/nvidia/nsight-compute/2024.2.1/host/target-linux-x64/python/packages/nsys_recipe/recipes/gpu_time_util/analysis.ipynb\n",
            "/opt/nvidia/nsight-compute/2024.2.1/host/target-linux-x64/python/packages/nsys_recipe/recipes/cuda_gpu_mem_size_sum/stats.ipynb\n",
            "/opt/nvidia/nsight-compute/2024.2.1/host/target-linux-x64/python/packages/nsys_recipe/recipes/gpu_gaps/analysis.ipynb\n",
            "/opt/nvidia/nsight-compute/2024.2.1/host/target-linux-x64/python/packages/nsys_recipe/recipes/cuda_memset_sync/analysis.ipynb\n",
            "/opt/nvidia/nsight-compute/2024.2.1/host/target-linux-x64/python/packages/nsys_recipe/recipes/cuda_memcpy_async/analysis.ipynb\n",
            "/opt/nvidia/nsight-compute/2024.2.1/host/target-linux-x64/python/packages/nsys_recipe/recipes/gpu_metric_util_map/heatmap.ipynb\n",
            "/opt/nvidia/nsight-compute/2024.2.1/host/target-linux-x64/python/packages/nsys_recipe/recipes/nccl_gpu_proj_sum/stats.ipynb\n",
            "/opt/nvidia/nsight-compute/2024.2.1/host/target-linux-x64/python/packages/nsys_recipe/recipes/cuda_api_sum/stats.ipynb\n",
            "/opt/nvidia/nsight-compute/2024.2.1/host/target-linux-x64/python/packages/nsys_recipe/recipes/dx12_mem_ops/analysis.ipynb\n",
            "/opt/nvidia/nsight-compute/2024.2.1/host/target-linux-x64/python/packages/nsys_recipe/recipes/nccl_gpu_overlap_trace/trace.ipynb\n",
            "/opt/nvidia/nsight-compute/2024.2.1/host/target-linux-x64/python/packages/nsys_recipe/recipes/osrt_sum/stats.ipynb\n",
            "/opt/nvidia/nsight-compute/2024.2.1/host/target-linux-x64/python/packages/nsys_recipe/recipes/cuda_gpu_kern_pace/pace.ipynb\n"
          ]
        }
      ]
    },
    {
      "cell_type": "code",
      "source": [],
      "metadata": {
        "id": "kM2Qc6ybiDSH"
      },
      "execution_count": null,
      "outputs": []
    }
  ]
}